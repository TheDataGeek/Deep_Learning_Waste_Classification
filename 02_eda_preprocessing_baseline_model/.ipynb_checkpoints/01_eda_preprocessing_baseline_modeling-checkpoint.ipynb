{
 "cells": [
  {
   "cell_type": "code",
   "execution_count": null,
   "id": "4c24c1b7",
   "metadata": {},
   "outputs": [],
   "source": [
    "# import libraries\n",
    "import pandas as pd\n",
    "import numpy as np\n",
    "import seaborn as sns\n",
    "import tensorflow as tf\n",
    "import matplotlib.pyplot as plt\n",
    "\n",
    "from os import path\n",
    "from glob import glob\n",
    "from tqdm import tqdm\n",
    "\n",
    "from sklearn import ensemble\n",
    "from sklearn import metrics\n",
    "from sklearn import preprocessing\n",
    "from sklearn.decomposition import PCA\n",
    "\n",
    "from tensorflow import keras \n",
    "from tensorflow.keras.models import Sequential\n",
    "from tensorflow.keras.layers import InputLayer, Dense, Activation, Conv2D, Flatten\n",
    "from tensorflow.keras.preprocessing.image import ImageDataGenerator"
   ]
  },
  {
   "cell_type": "code",
   "execution_count": null,
   "id": "6095fa4f",
   "metadata": {},
   "outputs": [],
   "source": [
    "pwd"
   ]
  },
  {
   "cell_type": "code",
   "execution_count": null,
   "id": "9e3e8bd3",
   "metadata": {},
   "outputs": [],
   "source": [
    "# create directory paths for images (from dataset)\n",
    "base_dir = '../../overview/project_data/COMPLETE_DATASET'\n",
    "train_dir = path.join(base_dir, 'TRAIN')\n",
    "test_dir = path.join(base_dir, 'TEST')\n",
    "\n",
    "print(train_dir)\n",
    "print(test_dir)"
   ]
  },
  {
   "cell_type": "code",
   "execution_count": null,
   "id": "cd89d6d3",
   "metadata": {},
   "outputs": [],
   "source": [
    "# .jpg files of organic images from train data\n",
    "train_org = glob(path.join(train_dir, 'O', '*.jpg'))\n",
    "print('Number of organic (train) images: ', len(train_org))"
   ]
  },
  {
   "cell_type": "code",
   "execution_count": null,
   "id": "d024497f",
   "metadata": {},
   "outputs": [],
   "source": [
    "# .jpg files of recyclable images from train data\n",
    "train_re = glob(path.join(train_dir, 'R', '*.jpg'))\n",
    "print('Number of recyclable (train) images: ', len(train_re))"
   ]
  },
  {
   "cell_type": "code",
   "execution_count": null,
   "id": "0787337a",
   "metadata": {},
   "outputs": [],
   "source": [
    "# .jpg files of organic images from train data\n",
    "test_org = glob(path.join(test_dir, 'O', '*.jpg'))\n",
    "print('Number of organic (test) images: ', len(test_org))"
   ]
  },
  {
   "cell_type": "code",
   "execution_count": null,
   "id": "503b24fe",
   "metadata": {},
   "outputs": [],
   "source": [
    "# .jpg files of organic images from train data\n",
    "test_re = glob(path.join(test_dir, 'R', '*.jpg'))\n",
    "print('Number of recyclable (test) images: ', len(test_re))"
   ]
  },
  {
   "cell_type": "code",
   "execution_count": null,
   "id": "d1a521e3",
   "metadata": {},
   "outputs": [],
   "source": [
    "print('Number of total (train + test) images: ', len(train_org)+len(train_re)+len(test_org)+len(test_re))\n",
    "print('Number of train (organic + recyclable) images: ', len(train_org)+len(train_re))\n",
    "print('Number of test (organic + recyclable) images: ', len(test_org)+len(test_re))"
   ]
  },
  {
   "cell_type": "code",
   "execution_count": null,
   "id": "c4ff0ea6",
   "metadata": {},
   "outputs": [],
   "source": [
    "x_data = []\n",
    "y_data = []\n",
    "\n",
    "for folder in glob(path.join(train_dir, '*')):\n",
    "    for file in tqdm(glob(path.join(folder, '*.jpg'))):\n",
    "        img_array = plt.imread(file)\n",
    "        x_data.append(img_array)\n",
    "        y_data.append(folder.split('/')[-1])\n",
    "\n",
    "train_data = pd.DataFrame({'image': x_data, 'label': y_data})"
   ]
  },
  {
   "cell_type": "code",
   "execution_count": null,
   "id": "031a8018",
   "metadata": {},
   "outputs": [],
   "source": [
    "train_data.shape"
   ]
  },
  {
   "cell_type": "code",
   "execution_count": null,
   "id": "eef95506",
   "metadata": {},
   "outputs": [],
   "source": [
    "train_data.info()"
   ]
  },
  {
   "cell_type": "code",
   "execution_count": null,
   "id": "4a837c54",
   "metadata": {},
   "outputs": [],
   "source": [
    "# pie chart of classes\n",
    "\n",
    "plt.figure(figsize=(8,8))\n",
    "plt.pie(train_data.label.value_counts(), \n",
    "        explode=[0.025,0.025],\n",
    "        colors=['yellowgreen', 'tomato'],\n",
    "        labels=['Organic', 'Recyclable'],\n",
    "        autopct='%.2f%%',\n",
    "        startangle=90,\n",
    "        textprops={'fontsize':12})\n",
    "plt.show();"
   ]
  },
  {
   "cell_type": "code",
   "execution_count": null,
   "id": "e897461b",
   "metadata": {},
   "outputs": [],
   "source": [
    "# read and display organic image\n",
    "plt.imshow(plt.imread(train_org[8]))"
   ]
  },
  {
   "cell_type": "code",
   "execution_count": null,
   "id": "1f9a0382",
   "metadata": {},
   "outputs": [],
   "source": [
    "# read and display recyclable images\n",
    "plt.imshow(plt.imread(train_re[1]))"
   ]
  },
  {
   "cell_type": "code",
   "execution_count": null,
   "id": "b70ec476",
   "metadata": {},
   "outputs": [],
   "source": [
    "plt.figure(figsize=(20,15))\n",
    "for i in range(9):\n",
    "    plt.subplot(3,3,(i%12)+1)\n",
    "    index=np.random.randint(22000)\n",
    "    \n",
    "    plt.imshow(train_data.image[index])\n",
    "    plt.axis('off')\n",
    "    \n",
    "    if train_data.label[index] == 'O':\n",
    "        plt.title('Organic Waste', fontdict={'size':24})\n",
    "    else:\n",
    "        plt.title('Recycable Waste', fontdict={'size':24})\n",
    "    \n",
    "plt.show()"
   ]
  },
  {
   "cell_type": "code",
   "execution_count": null,
   "id": "9d2d081b",
   "metadata": {},
   "outputs": [],
   "source": [
    "# return shape for first 10 organic images\n",
    "for img in train_org[0:10]:\n",
    "    print((plt.imread(img)).shape)"
   ]
  },
  {
   "cell_type": "code",
   "execution_count": null,
   "id": "7e987080",
   "metadata": {},
   "outputs": [],
   "source": [
    "# return shape for first 10 recyclable images\n",
    "for img in train_re[0:10]:\n",
    "    print((plt.imread(img)).shape)"
   ]
  },
  {
   "cell_type": "code",
   "execution_count": null,
   "id": "2a3d54c4",
   "metadata": {},
   "outputs": [],
   "source": [
    "# image augmentation\n",
    "data_generator = ImageDataGenerator(rescale = 1.0 / 255.0)"
   ]
  },
  {
   "cell_type": "code",
   "execution_count": null,
   "id": "dc673910",
   "metadata": {},
   "outputs": [],
   "source": [
    "# train data\n",
    "train_generator = data_generator.flow_from_directory(\n",
    "    train_dir,\n",
    "    class_mode='binary',\n",
    "    batch_size=32,\n",
    "    seed=42)"
   ]
  },
  {
   "cell_type": "code",
   "execution_count": null,
   "id": "20071a32",
   "metadata": {},
   "outputs": [],
   "source": [
    "train_generator.class_indices"
   ]
  },
  {
   "cell_type": "code",
   "execution_count": null,
   "id": "c7ac548f",
   "metadata": {},
   "outputs": [],
   "source": [
    "# test data\n",
    "test_generator = data_generator.flow_from_directory(\n",
    "    test_dir, \n",
    "    class_mode='binary',\n",
    "    batch_size=32,\n",
    "    seed=42)"
   ]
  },
  {
   "cell_type": "code",
   "execution_count": null,
   "id": "0428bf51",
   "metadata": {},
   "outputs": [],
   "source": [
    "# assign x and y values\n",
    "x_train, y_train = next(train_generator)\n",
    "x_test, y_test = next(test_generator)"
   ]
  },
  {
   "cell_type": "code",
   "execution_count": null,
   "id": "4c57286e",
   "metadata": {},
   "outputs": [],
   "source": [
    "x_train.ndim"
   ]
  },
  {
   "cell_type": "code",
   "execution_count": null,
   "id": "2b4ed961",
   "metadata": {},
   "outputs": [],
   "source": [
    "print(x_train.shape)"
   ]
  },
  {
   "cell_type": "code",
   "execution_count": null,
   "id": "898a281a",
   "metadata": {},
   "outputs": [],
   "source": [
    "print(y_train.shape)"
   ]
  },
  {
   "cell_type": "markdown",
   "id": "7bacfb16",
   "metadata": {},
   "source": [
    "## NON DEEP LEARNING MODEL (RANDOM FOREST)"
   ]
  },
  {
   "cell_type": "code",
   "execution_count": null,
   "id": "f9d4e1a6",
   "metadata": {},
   "outputs": [],
   "source": [
    "# reshape x_train values; sklearn expects 2D array\n",
    "nsamples, nx, ny, nrgb = x_train.shape\n",
    "x_train_2d = x_train.reshape((nsamples,nx*ny*nrgb))"
   ]
  },
  {
   "cell_type": "code",
   "execution_count": null,
   "id": "2d4273cb",
   "metadata": {},
   "outputs": [],
   "source": [
    "# reshape x_test values; sklearn expects 2D array\n",
    "nsamples, nx, ny, nrgb = x_test.shape\n",
    "x_test_2d = x_test.reshape((nsamples,nx*ny*nrgb))"
   ]
  },
  {
   "cell_type": "code",
   "execution_count": null,
   "id": "55ff2202",
   "metadata": {},
   "outputs": [],
   "source": [
    "# reduce train data dimensions using PCA\n",
    "pca = PCA(n_components=2)\n",
    "pca.fit(x_train_2d)\n",
    "pcafeatures_train = pca.transform(x_train_2d)"
   ]
  },
  {
   "cell_type": "code",
   "execution_count": null,
   "id": "98667852",
   "metadata": {},
   "outputs": [],
   "source": [
    "np.shape(pcafeatures_train)"
   ]
  },
  {
   "cell_type": "code",
   "execution_count": null,
   "id": "c5fa220e",
   "metadata": {},
   "outputs": [],
   "source": [
    "# reduce test data dimensions using PCA\n",
    "pca = PCA(n_components=2)\n",
    "pca.fit(x_test_2d)\n",
    "pcafeatures_test = pca.transform(x_test_2d)"
   ]
  },
  {
   "cell_type": "code",
   "execution_count": null,
   "id": "94647d8d",
   "metadata": {},
   "outputs": [],
   "source": [
    "# instantiate and fit baseline model\n",
    "rf = ensemble.RandomForestRegressor(n_estimators=100)\n",
    "\n",
    "rf.fit(pcafeatures_train,y_train)"
   ]
  },
  {
   "cell_type": "code",
   "execution_count": null,
   "id": "45197ee9",
   "metadata": {},
   "outputs": [],
   "source": [
    "# evaluate random forest\n",
    "rf_y_pred = rf.predict(pcafeatures_test)\n",
    "rf_y_pred"
   ]
  },
  {
   "cell_type": "code",
   "execution_count": null,
   "id": "d4c382e0",
   "metadata": {},
   "outputs": [],
   "source": [
    "print(rf_y_pred.shape)\n",
    "print(type(rf_y_pred))"
   ]
  },
  {
   "cell_type": "code",
   "execution_count": null,
   "id": "7496204f",
   "metadata": {},
   "outputs": [],
   "source": [
    "# evaluate using log loss\n",
    "# where y_pred are probabilities and y_true are binary class labels\n",
    "print(f\"Random Forest Log Loss: {metrics.log_loss(y_test, rf_y_pred, eps=1e-15):,.4f}\")"
   ]
  },
  {
   "cell_type": "code",
   "execution_count": null,
   "id": "2a54f0bd",
   "metadata": {},
   "outputs": [],
   "source": [
    "# convert y_pred probabilities into binary labels\n",
    "rf_y_pred = np.array([1.0 if num >= 0.5 else 0 for num in rf_y_pred])\n",
    "rf_y_pred"
   ]
  },
  {
   "cell_type": "code",
   "execution_count": null,
   "id": "9d792f84",
   "metadata": {},
   "outputs": [],
   "source": [
    "print(rf_y_pred.shape)\n",
    "print(type(rf_y_pred))"
   ]
  },
  {
   "cell_type": "code",
   "execution_count": null,
   "id": "cf875cdf",
   "metadata": {},
   "outputs": [],
   "source": [
    "# evaluate\n",
    "print(f\"Random Forest MAE: {metrics.mean_absolute_error(y_test, rf_y_pred):,.4f}\")\n",
    "print(f\"Random Forest MSE: {metrics.mean_squared_error(y_test, rf_y_pred):,.4f}\")\n",
    "print(f\"Random Forest Accuracy: {metrics.accuracy_score(y_test, rf_y_pred):,.4f}\")"
   ]
  },
  {
   "cell_type": "code",
   "execution_count": null,
   "id": "23fe12bc",
   "metadata": {},
   "outputs": [],
   "source": []
  },
  {
   "cell_type": "markdown",
   "id": "722098c8",
   "metadata": {},
   "source": [
    "### SIMPLE NEURAL NET"
   ]
  },
  {
   "cell_type": "code",
   "execution_count": null,
   "id": "9d0171a3",
   "metadata": {},
   "outputs": [],
   "source": [
    "snn = Sequential()\n",
    "\n",
    "snn.add(Flatten(input_shape=x_train.shape[1:]))\n",
    "snn.add(Dense(units=80, activation='relu'))\n",
    "snn.add(Dense(units=40, activation='relu'))\n",
    "snn.add(Dense(units=20, activation='relu'))\n",
    "snn.add(Dense(units=10, activation='relu'))\n",
    "snn.add(Dense(units=1, activation='sigmoid'))\n",
    "\n",
    "snn.compile('adam', loss='binary_crossentropy', metrics=['accuracy'])\n",
    "snn.summary()"
   ]
  },
  {
   "cell_type": "code",
   "execution_count": null,
   "id": "18d8239b",
   "metadata": {},
   "outputs": [],
   "source": [
    "# snn = Sequential()\n",
    "\n",
    "# snn.add(Flatten(input_shape=x_train.shape[1:]))\n",
    "# snn.add(Dense(units=80, activation='relu'))\n",
    "# snn.add(Dense(units=40, activation='relu'))\n",
    "# snn.add(Dense(units=20, activation='relu'))\n",
    "# snn.add(Dense(units=10, activation='relu'))\n",
    "# snn.add(Dense(units=1, activation='sigmoid'))\n",
    "\n",
    "# snn.compile('sgd', loss='mean_absolute_error', metrics=['mean_squared_error'])\n",
    "# snn.summary()"
   ]
  },
  {
   "cell_type": "code",
   "execution_count": null,
   "id": "85828996",
   "metadata": {},
   "outputs": [],
   "source": [
    "snn.fit(x_train, y_train, epochs=20, verbose=0)"
   ]
  },
  {
   "cell_type": "code",
   "execution_count": null,
   "id": "2dcfbae4",
   "metadata": {},
   "outputs": [],
   "source": [
    "# evaluate simple neural net model\n",
    "snn.evaluate(x_test,y_test)"
   ]
  },
  {
   "cell_type": "code",
   "execution_count": null,
   "id": "f4f63526",
   "metadata": {},
   "outputs": [],
   "source": [
    "# evaluate simple neural net model\n",
    "snn_y_pred = snn.predict(x_test)\n",
    "snn_y_pred"
   ]
  },
  {
   "cell_type": "code",
   "execution_count": null,
   "id": "b2a78ac0",
   "metadata": {},
   "outputs": [],
   "source": [
    "print(snn_y_pred.shape)\n",
    "print(type(snn_y_pred))"
   ]
  },
  {
   "cell_type": "code",
   "execution_count": null,
   "id": "c0ed8a92",
   "metadata": {},
   "outputs": [],
   "source": [
    "# evaluate using log loss\n",
    "# where y_pred are probabilities and y_true are binary class labels\n",
    "print(f\"Random Forest Log Loss: {metrics.log_loss(y_test, snn_y_pred, eps=1e-15):,.4f}\")"
   ]
  },
  {
   "cell_type": "code",
   "execution_count": null,
   "id": "56972dbd",
   "metadata": {},
   "outputs": [],
   "source": [
    "# convert y_pred probabilities into binary labels\n",
    "snn_y_pred = np.array([1.0 if num >= 0.5 else 0 for num in snn_y_pred])\n",
    "snn_y_pred"
   ]
  },
  {
   "cell_type": "code",
   "execution_count": null,
   "id": "502ef20b",
   "metadata": {},
   "outputs": [],
   "source": [
    "print(snn_y_pred.shape)\n",
    "print(type(snn_y_pred))"
   ]
  },
  {
   "cell_type": "code",
   "execution_count": null,
   "id": "6b124289",
   "metadata": {},
   "outputs": [],
   "source": [
    "# evaluate using MAE, MSE, Accuracy\n",
    "print(f\"Simple Neural Net MAE: {metrics.mean_absolute_error(y_test, snn_y_pred):,.4f}\")\n",
    "print(f\"Simple Neural Net MSE: {metrics.mean_squared_error(y_test, snn_y_pred):,.4f}\")\n",
    "print(f\"Simple Neural Net Accuracy: {metrics.accuracy_score(y_test, snn_y_pred):,.4f}\")"
   ]
  }
 ],
 "metadata": {
  "kernelspec": {
   "display_name": "Python 3 (deep_learning)",
   "language": "python",
   "name": "deep_learning"
  },
  "language_info": {
   "codemirror_mode": {
    "name": "ipython",
    "version": 3
   },
   "file_extension": ".py",
   "mimetype": "text/x-python",
   "name": "python",
   "nbconvert_exporter": "python",
   "pygments_lexer": "ipython3",
   "version": "3.9.12"
  }
 },
 "nbformat": 4,
 "nbformat_minor": 5
}
