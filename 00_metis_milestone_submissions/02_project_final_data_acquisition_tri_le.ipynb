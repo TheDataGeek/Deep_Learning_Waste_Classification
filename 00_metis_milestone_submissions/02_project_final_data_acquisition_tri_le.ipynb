{
 "cells": [
  {
   "cell_type": "code",
   "execution_count": 1,
   "id": "4c24c1b7",
   "metadata": {},
   "outputs": [],
   "source": [
    "# import libraries\n",
    "import pandas as pd\n",
    "import matplotlib.pyplot as plt\n",
    "from os import path\n",
    "from glob import glob\n",
    "from tqdm import tqdm"
   ]
  },
  {
   "cell_type": "code",
   "execution_count": 2,
   "id": "9e3e8bd3",
   "metadata": {},
   "outputs": [
    {
     "name": "stdout",
     "output_type": "stream",
     "text": [
      "../01_data/COMPLETE_DATASET/TRAIN\n",
      "../01_data/COMPLETE_DATASET/TEST\n"
     ]
    }
   ],
   "source": [
    "# create directory paths for images (from dataset)\n",
    "base_dir = '../01_data/COMPLETE_DATASET'\n",
    "train_dir = path.join(base_dir, 'TRAIN')\n",
    "test_dir = path.join(base_dir, 'TEST')\n",
    "\n",
    "print(train_dir)\n",
    "print(test_dir)"
   ]
  },
  {
   "cell_type": "code",
   "execution_count": 3,
   "id": "cd89d6d3",
   "metadata": {},
   "outputs": [
    {
     "name": "stdout",
     "output_type": "stream",
     "text": [
      "Number of organic (train) images:  12565\n"
     ]
    }
   ],
   "source": [
    "# .jpg files of organic images from train data\n",
    "train_org = glob(path.join(train_dir, 'O', '*.jpg'))\n",
    "train_org.sort()\n",
    "print('Number of organic (train) images: ', len(train_org))"
   ]
  },
  {
   "cell_type": "code",
   "execution_count": 4,
   "id": "d024497f",
   "metadata": {},
   "outputs": [
    {
     "name": "stdout",
     "output_type": "stream",
     "text": [
      "Number of recyclable (train) images:  9999\n"
     ]
    }
   ],
   "source": [
    "# .jpg files of recyclable images from train data\n",
    "train_re = glob(path.join(train_dir, 'R', '*.jpg'))\n",
    "train_re.sort()\n",
    "print('Number of recyclable (train) images: ', len(train_re))"
   ]
  },
  {
   "cell_type": "code",
   "execution_count": 5,
   "id": "0787337a",
   "metadata": {},
   "outputs": [
    {
     "name": "stdout",
     "output_type": "stream",
     "text": [
      "Number of organic (test) images:  1401\n"
     ]
    }
   ],
   "source": [
    "# .jpg files of organic images from train data\n",
    "test_org = glob(path.join(test_dir, 'O', '*.jpg'))\n",
    "test_org.sort()\n",
    "print('Number of organic (test) images: ', len(test_org))"
   ]
  },
  {
   "cell_type": "code",
   "execution_count": 6,
   "id": "503b24fe",
   "metadata": {},
   "outputs": [
    {
     "name": "stdout",
     "output_type": "stream",
     "text": [
      "Number of recyclable (test) images:  1112\n"
     ]
    }
   ],
   "source": [
    "# .jpg files of organic images from train data\n",
    "test_re = glob(path.join(test_dir, 'R', '*.jpg'))\n",
    "test_re.sort()\n",
    "print('Number of recyclable (test) images: ', len(test_re))"
   ]
  },
  {
   "cell_type": "code",
   "execution_count": 7,
   "id": "d1a521e3",
   "metadata": {},
   "outputs": [
    {
     "name": "stdout",
     "output_type": "stream",
     "text": [
      "Number of total (train + test) images:  25077\n",
      "Number of train (organic + recyclable) images:  22564\n",
      "Number of test (organic + recyclable) images:  2513\n"
     ]
    }
   ],
   "source": [
    "print('Number of total (train + test) images: ', len(train_org)+len(train_re)+len(test_org)+len(test_re))\n",
    "print('Number of train (organic + recyclable) images: ', len(train_org)+len(train_re))\n",
    "print('Number of test (organic + recyclable) images: ', len(test_org)+len(test_re))"
   ]
  },
  {
   "cell_type": "code",
   "execution_count": 8,
   "id": "c4ff0ea6",
   "metadata": {},
   "outputs": [
    {
     "name": "stderr",
     "output_type": "stream",
     "text": [
      "100%|██████████████████████████████████████| 9999/9999 [00:14<00:00, 677.55it/s]\n",
      "100%|████████████████████████████████████| 12565/12565 [00:20<00:00, 621.09it/s]\n"
     ]
    }
   ],
   "source": [
    "x_data = []\n",
    "y_data = []\n",
    "\n",
    "for folder in glob(path.join(train_dir, '*')):\n",
    "    for file in tqdm(glob(path.join(folder, '*.jpg'))):\n",
    "        img_array = plt.imread(file)\n",
    "        x_data.append(img_array)\n",
    "        y_data.append(folder.split('/')[-1])\n",
    "\n",
    "train_data = pd.DataFrame({'image': x_data, 'label': y_data})"
   ]
  },
  {
   "cell_type": "code",
   "execution_count": 9,
   "id": "031a8018",
   "metadata": {},
   "outputs": [
    {
     "data": {
      "text/plain": [
       "(22564, 2)"
      ]
     },
     "execution_count": 9,
     "metadata": {},
     "output_type": "execute_result"
    }
   ],
   "source": [
    "train_data.shape"
   ]
  },
  {
   "cell_type": "code",
   "execution_count": 10,
   "id": "eef95506",
   "metadata": {},
   "outputs": [
    {
     "name": "stdout",
     "output_type": "stream",
     "text": [
      "<class 'pandas.core.frame.DataFrame'>\n",
      "RangeIndex: 22564 entries, 0 to 22563\n",
      "Data columns (total 2 columns):\n",
      " #   Column  Non-Null Count  Dtype \n",
      "---  ------  --------------  ----- \n",
      " 0   image   22564 non-null  object\n",
      " 1   label   22564 non-null  object\n",
      "dtypes: object(2)\n",
      "memory usage: 352.7+ KB\n"
     ]
    }
   ],
   "source": [
    "train_data.info()"
   ]
  }
 ],
 "metadata": {
  "kernelspec": {
   "display_name": "Python 3 (deep_learning)",
   "language": "python",
   "name": "deep_learning"
  },
  "language_info": {
   "codemirror_mode": {
    "name": "ipython",
    "version": 3
   },
   "file_extension": ".py",
   "mimetype": "text/x-python",
   "name": "python",
   "nbconvert_exporter": "python",
   "pygments_lexer": "ipython3",
   "version": "3.9.12"
  }
 },
 "nbformat": 4,
 "nbformat_minor": 5
}
