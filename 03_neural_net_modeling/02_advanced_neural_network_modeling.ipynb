{
 "cells": [
  {
   "cell_type": "code",
   "execution_count": null,
   "metadata": {
    "id": "MeTkxCFp3j4F"
   },
   "outputs": [],
   "source": [
    "# import libraries\n",
    "import cv2\n",
    "import pandas as pd\n",
    "import numpy as np\n",
    "import seaborn as sns\n",
    "import tensorflow as tf\n",
    "import matplotlib.pyplot as plt\n",
    "\n",
    "from os import path\n",
    "from glob import glob\n",
    "from tqdm import tqdm\n",
    "\n",
    "from sklearn import metrics\n",
    "from sklearn.ensemble import RandomForestClassifier\n",
    "from sklearn.linear_model import LogisticRegression\n",
    "from sklearn.preprocessing import StandardScaler\n",
    "from sklearn.decomposition import PCA\n",
    "\n",
    "from tensorflow import keras \n",
    "\n",
    "from tensorflow.keras.models import Sequential\n",
    "\n",
    "from tensorflow.keras.layers import InputLayer\n",
    "from tensorflow.keras.layers import Conv2D, MaxPooling2D\n",
    "from tensorflow.keras.layers import BatchNormalization, Activation\n",
    "from tensorflow.keras.layers import Flatten, Dense, Dropout\n",
    "\n",
    "from tensorflow.keras.callbacks import ModelCheckpoint, EarlyStopping\n",
    "\n",
    "from tensorflow.keras.preprocessing.image import ImageDataGenerator"
   ]
  },
  {
   "cell_type": "code",
   "execution_count": null,
   "metadata": {
    "id": "3EcDC1bLaJ0A"
   },
   "outputs": [],
   "source": [
    "plt.rcParams['figure.figsize'] = (12.0, 6.0)\n",
    "\n",
    "def model_performance_plot(history):\n",
    "    hist = pd.DataFrame(history.history)\n",
    "    hist['epoch'] = history.epoch\n",
    "  \n",
    "    plt.figure()\n",
    "    plt.xlabel('Epochs')\n",
    "    plt.ylabel('Accuracy')\n",
    "    plt.title('Training and Validation Accuracy')\n",
    "    plt.plot(hist['epoch'], hist['accuracy'],label='Train Accuracy')\n",
    "    plt.plot(hist['epoch'], hist['val_accuracy'],label = 'Validation Accuracy')\n",
    "    plt.legend()\n",
    "#     plt.savefig('../images/model_accuracy.png')\n",
    "    \n",
    "    plt.figure()\n",
    "    plt.xlabel('Epochs')\n",
    "    plt.title('Training and Validation Binary Crossentropy Loss')\n",
    "    plt.plot(hist['epoch'], hist['loss'],label='Train Loss')\n",
    "    plt.plot(hist['epoch'], hist['val_loss'],label = 'Validation Loss')\n",
    "    plt.xlabel('Epochs')\n",
    "    plt.ylabel('Loss')\n",
    "    plt.legend()\n",
    "#     plt.savefig('../images/model_loss.png')\n",
    "    plt.show()"
   ]
  },
  {
   "cell_type": "code",
   "execution_count": null,
   "metadata": {
    "colab": {
     "base_uri": "https://localhost:8080/"
    },
    "id": "y58JW4dO2GFU",
    "outputId": "6a340af2-ab1d-43ed-d3db-f6486cfbd04c"
   },
   "outputs": [],
   "source": [
    "# create directory paths for images (from dataset)\n",
    "base_dir = '../../overview/project_data/COMPLETE_DATASET'\n",
    "train_dir = path.join(base_dir, 'TRAIN')\n",
    "test_dir = path.join(base_dir, 'TEST')\n",
    "\n",
    "print(train_dir)\n",
    "print(test_dir)"
   ]
  },
  {
   "cell_type": "markdown",
   "metadata": {
    "id": "Bh_RCesbALgI"
   },
   "source": [
    "# IMAGE PREPROCESSING"
   ]
  },
  {
   "cell_type": "code",
   "execution_count": null,
   "metadata": {
    "id": "HVDBSEqr9QrM"
   },
   "outputs": [],
   "source": [
    "img_height = 256\n",
    "img_width = 256\n",
    "batch_size = 32"
   ]
  },
  {
   "cell_type": "code",
   "execution_count": null,
   "metadata": {
    "id": "ecmon4bI903V"
   },
   "outputs": [],
   "source": [
    "# image scaling\n",
    "train_datagen = ImageDataGenerator(rescale=1.0 / 255.0,\n",
    "                                   validation_split=0.20)\n",
    "\n",
    "test_datagen = ImageDataGenerator(rescale=1.0 / 255.0)"
   ]
  },
  {
   "cell_type": "code",
   "execution_count": null,
   "metadata": {
    "colab": {
     "base_uri": "https://localhost:8080/"
    },
    "id": "rcHx-mwB96yk",
    "outputId": "2a7d1db4-59b1-4705-aa92-97f73e63c15a"
   },
   "outputs": [],
   "source": [
    "# initialize train, validation, testing generator\n",
    "train_generator = train_datagen.flow_from_directory(\n",
    "    directory=train_dir,\n",
    "    target_size=(img_height, img_width),\n",
    "    batch_size=batch_size,\n",
    "    class_mode='binary',\n",
    "    subset='training',\n",
    "    shuffle=True,\n",
    "    seed=42)\n",
    "\n",
    "valid_generator = train_datagen.flow_from_directory(\n",
    "    directory=train_dir,\n",
    "    target_size=(img_height, img_width),\n",
    "    batch_size=batch_size,\n",
    "    class_mode='binary',\n",
    "    subset='validation',\n",
    "    shuffle=True,\n",
    "    seed=42)\n",
    "\n",
    "test_generator = test_datagen.flow_from_directory(\n",
    "    directory=test_dir,\n",
    "    target_size=(img_height, img_width),\n",
    "    batch_size=batch_size,\n",
    "    class_mode='binary',\n",
    "    seed=42)"
   ]
  },
  {
   "cell_type": "code",
   "execution_count": null,
   "metadata": {
    "id": "KXnJmxxq96rn"
   },
   "outputs": [],
   "source": [
    "earlystopping = EarlyStopping(monitor='val_accuracy',\n",
    "                              min_delta=0.005,\n",
    "                              patience=4,\n",
    "                              mode='max',\n",
    "                              verbose=1)\n",
    "\n",
    "checkpoint = ModelCheckpoint(filepath='./model_checkpoint/',\n",
    "                             monitor='val_accuracy',\n",
    "                             verbose=1,\n",
    "                             save_best_only=True)\n",
    "\n",
    "callbacks = [earlystopping, checkpoint]"
   ]
  },
  {
   "cell_type": "markdown",
   "metadata": {
    "id": "dYnogXPfBs-U"
   },
   "source": [
    "# COMPLEX CNN"
   ]
  },
  {
   "cell_type": "code",
   "execution_count": null,
   "metadata": {
    "colab": {
     "base_uri": "https://localhost:8080/"
    },
    "id": "-9WfVWUqBo1T",
    "outputId": "a29e7441-2783-4812-c918-d614f4a4ecc2"
   },
   "outputs": [],
   "source": [
    "model3 = Sequential()\n",
    "\n",
    "model3.add(InputLayer(input_shape=(256,256,3)))\n",
    "\n",
    "model3.add(Conv2D(filters=16, kernel_size=3, padding='same'))\n",
    "model3.add(BatchNormalization())\n",
    "model3.add(Activation('relu'))\n",
    "model3.add(MaxPooling2D())\n",
    "\n",
    "model3.add(Conv2D(filters=32, kernel_size=3, padding='same'))\n",
    "model3.add(BatchNormalization())\n",
    "model3.add(Activation('relu'))\n",
    "model3.add(MaxPooling2D())\n",
    "\n",
    "# model3.add(Conv2D(filters=64, kernel_size=3, padding='same'))\n",
    "# model3.add(BatchNormalization())\n",
    "# model3.add(Activation('relu'))\n",
    "# model3.add(MaxPooling2D())\n",
    "\n",
    "model3.add(Flatten())\n",
    "\n",
    "# model3.add(Dense(64))\n",
    "# model3.add(BatchNormalization())\n",
    "# model3.add(Activation('relu'))\n",
    "# model3.add(Dropout(0.5))\n",
    "\n",
    "model3.add(Dense(32))\n",
    "model3.add(BatchNormalization())\n",
    "model3.add(Activation('relu'))\n",
    "model3.add(Dropout(0.5))\n",
    "\n",
    "model3.add(Dense(16))\n",
    "model3.add(BatchNormalization())\n",
    "model3.add(Activation('relu'))\n",
    "model3.add(Dropout(0.5))\n",
    "\n",
    "model3.add(Dense(1))\n",
    "model3.add(BatchNormalization())\n",
    "model3.add(Activation('sigmoid'))\n",
    "\n",
    "model3.compile(loss = 'binary_crossentropy',optimizer = 'adam',metrics = ['accuracy'])\n",
    "\n",
    "model3.summary()"
   ]
  },
  {
   "cell_type": "code",
   "execution_count": null,
   "metadata": {
    "colab": {
     "base_uri": "https://localhost:8080/"
    },
    "id": "Ypbog_AikYs8",
    "outputId": "2c117ca9-3ebf-4a81-d16e-28f15242b2bc"
   },
   "outputs": [],
   "source": [
    "complex_cnn = model3.fit(train_generator,\n",
    "                        epochs=20,\n",
    "                        validation_data=valid_generator,\n",
    "                        callbacks=callbacks)"
   ]
  },
  {
   "cell_type": "code",
   "execution_count": null,
   "metadata": {
    "colab": {
     "base_uri": "https://localhost:8080/"
    },
    "id": "9NgGfjjEWE4e",
    "outputId": "100842ca-6446-4662-d55d-d92333c509f0"
   },
   "outputs": [],
   "source": [
    "# evaluate model\n",
    "complex_loss, complex_accuracy = model3.evaluate(test_generator)\n",
    "print(f\"Test Accuracy: {complex_accuracy:.4f}\")\n",
    "print(f\"Test Loss: {complex_loss:.4f}\")"
   ]
  },
  {
   "cell_type": "code",
   "execution_count": null,
   "metadata": {
    "colab": {
     "base_uri": "https://localhost:8080/",
     "height": 791
    },
    "id": "Q2escES3YFWl",
    "outputId": "36d7ccb3-1915-4304-c6a6-c686ee0d8ced"
   },
   "outputs": [],
   "source": [
    "model_performance_plot(complex_cnn)"
   ]
  },
  {
   "cell_type": "code",
   "execution_count": null,
   "metadata": {
    "id": "2G_OyltqYFZR"
   },
   "outputs": [],
   "source": []
  },
  {
   "cell_type": "code",
   "execution_count": null,
   "metadata": {},
   "outputs": [],
   "source": []
  },
  {
   "cell_type": "code",
   "execution_count": null,
   "metadata": {},
   "outputs": [],
   "source": []
  },
  {
   "cell_type": "code",
   "execution_count": null,
   "metadata": {},
   "outputs": [],
   "source": []
  },
  {
   "cell_type": "code",
   "execution_count": null,
   "metadata": {
    "id": "-48YjlMhYTww"
   },
   "outputs": [],
   "source": [
    "Y_pred = model.predict_generator(test_generator, len(test_generator))\n",
    "y_pred = np.argmax(Y_pred, axis=1)"
   ]
  },
  {
   "cell_type": "code",
   "execution_count": null,
   "metadata": {
    "id": "dfAl0QF7YTtL"
   },
   "outputs": [],
   "source": [
    "target_names = list(test_generator.class_indices.keys())\n",
    "print(classification_report(test_generator.classes, y_pred, target_names=target_names)) "
   ]
  },
  {
   "cell_type": "code",
   "execution_count": null,
   "metadata": {
    "id": "sUHj-j5LWE11"
   },
   "outputs": [],
   "source": [
    "conf_mat = confusion_matrix(test_generator.classes, y_pred)\n",
    "df_cm = pd.DataFrame(conf_mat, index = target_names, columns = target_names)\n",
    "plt.figure(figsize = (12,8))\n",
    "sn.heatmap(df_cm, annot=True,cmap=\"YlGnBu\")"
   ]
  },
  {
   "cell_type": "code",
   "execution_count": null,
   "metadata": {
    "id": "El9N7zHQWExI"
   },
   "outputs": [],
   "source": []
  },
  {
   "cell_type": "code",
   "execution_count": null,
   "metadata": {
    "id": "Fu-I0-AiYlt5"
   },
   "outputs": [],
   "source": []
  },
  {
   "cell_type": "code",
   "execution_count": null,
   "metadata": {
    "id": "3nNr1-CLYlqI"
   },
   "outputs": [],
   "source": [
    "class_mapping = {v:k for k,v in train_generator.class_indices.items()}\n"
   ]
  },
  {
   "cell_type": "code",
   "execution_count": null,
   "metadata": {
    "id": "dmZ-KjOeWEuj"
   },
   "outputs": [],
   "source": [
    "def image_type(filename):\n",
    "    \n",
    "    if \"glass\" in filename:\n",
    "        return 'glass'\n",
    "    elif \"metal\" in filename:\n",
    "        return 'metal'\n",
    "    elif \"paper\" in filename:\n",
    "        return 'paper'\n",
    "    elif \"plastic\" in filename:\n",
    "        return 'plastic'\n",
    "    elif \"cardboard\" in filename:\n",
    "        return 'cardboard'\n",
    "    \n",
    "\n",
    "def plot_predicted_label(nrows, ncols,onlyfiles):\n",
    "    fig, axes = plt.subplots(nrows, ncols,figsize=(20, 13))\n",
    "    \n",
    "    rs = np.random.choice(len(onlyfiles),nrows*ncols,replace=False)\n",
    "    \n",
    "    for i, ax in zip(rs, axes.flat):\n",
    "        img = cv2.imread(os.path.join(predict_dir, onlyfiles[i]))\n",
    "        true_type = image_type(onlyfiles[i])\n",
    "        img = cv2.resize(img, (IMAGE_SIZE[0], IMAGE_SIZE[1])) \n",
    "        img = img /255\n",
    "         \n",
    "        probabilities = model.predict(np.asarray([img]))[0]\n",
    "        class_idx = np.argmax(probabilities)\n",
    "            \n",
    "        title = 'True: %s, Pred: %s , Confi:%0.2f' % (true_type,class_mapping[class_idx],probabilities[class_idx])\n",
    "        ax.imshow(img, cmap='binary')\n",
    "        ax.set_title(title)\n",
    "         \n",
    "        ax.set_xticks([])\n",
    "        ax.set_yticks([])\n",
    "\n",
    "        \n",
    "num_rows = 2\n",
    "num_cols = 4\n",
    "\n",
    "# load image path to predict\n",
    "onlyfiles = [f for f in listdir(predict_dir) if isfile(join(predict_dir, f))]\n",
    "\n",
    "plot_predicted_label(num_rows, num_cols,onlyfiles);"
   ]
  },
  {
   "cell_type": "code",
   "execution_count": null,
   "metadata": {
    "id": "GqAtHMVdYkBo"
   },
   "outputs": [],
   "source": []
  },
  {
   "cell_type": "code",
   "execution_count": null,
   "metadata": {
    "id": "Tmnu0zQZWErk"
   },
   "outputs": [],
   "source": []
  },
  {
   "cell_type": "code",
   "execution_count": null,
   "metadata": {
    "id": "QEq56OeBSZT7"
   },
   "outputs": [],
   "source": [
    "def predict_func(img): \n",
    "    plt.figure(figsize=(6,4))\n",
    "    plt.imshow(cv2.cvtColor(img, cv2.COLOR_BGR2RGB))\n",
    "    plt.tight_layout()\n",
    "    img = cv2.resize(img, (224, 224))\n",
    "    img = np.reshape(img, [-1, 224, 224,3])\n",
    "    result = np.argmax(model.predict(img))\n",
    "    if result == 0: print(\"\\033[94m\"+\"This image -> Recyclable\"+\"\\033[0m\")\n",
    "    elif result ==1: print(\"\\033[94m\"+\"This image -> Organic\"+\"\\033[0m\")"
   ]
  },
  {
   "cell_type": "code",
   "execution_count": null,
   "metadata": {
    "id": "VIecGU37Sgjd"
   },
   "outputs": [],
   "source": [
    "test_img = cv2.imread(\"/kaggle/input/waste-classification-data/DATASET/TEST/O/O_12573.jpg\")\n",
    "predict_func(test_img)"
   ]
  },
  {
   "cell_type": "code",
   "execution_count": null,
   "metadata": {
    "id": "ejxk23SMSgdi"
   },
   "outputs": [],
   "source": [
    "test_img = cv2.imread(\"/kaggle/input/waste-classification-data/DATASET/TEST/R/R_10753.jpg\")\n",
    "predict_func(test_img)"
   ]
  },
  {
   "cell_type": "code",
   "execution_count": null,
   "metadata": {
    "id": "wkb5iR5ZYjAd"
   },
   "outputs": [],
   "source": []
  },
  {
   "cell_type": "code",
   "execution_count": null,
   "metadata": {
    "id": "UaCWiUXHTL_b"
   },
   "outputs": [],
   "source": [
    "# Test Case:1 - ORGANIC\n",
    "\n",
    "dic = test_data.class_indices\n",
    "idc = {k:v for v,k in dic.items()}\n",
    "\n",
    "img = load_img('../input/waste-classification-data/DATASET/TEST/O/O_12650.jpg', target_size=(224,224))\n",
    "img = img_to_array(img)\n",
    "img = img / 255\n",
    "imshow(img)\n",
    "plt.axis('off')\n",
    "img = np.expand_dims(img,axis=0)\n",
    "answer = model.predict_proba(img)\n",
    "\n",
    "if answer[0][0] > 0.5:\n",
    "    print(\"The image belongs to Recycle waste category\")\n",
    "else:\n",
    "    print(\"The image belongs to Organic waste category \")"
   ]
  },
  {
   "cell_type": "code",
   "execution_count": null,
   "metadata": {
    "id": "q96hcsF3TN9o"
   },
   "outputs": [],
   "source": [
    "# Test Case:2 - RECYCLE\n",
    "\n",
    "dic = test_data.class_indices\n",
    "idc = {k:v for v,k in dic.items()}\n",
    "\n",
    "img = load_img('../input/waste-classification-data/DATASET/TEST/R/R_10011.jpg', target_size=(224,224))\n",
    "img = img_to_array(img)\n",
    "img = img / 255\n",
    "imshow(img)\n",
    "plt.axis('off')\n",
    "img = np.expand_dims(img,axis=0)\n",
    "answer = model.predict_proba(img)\n",
    "\n",
    "if answer[0][0] > 0.5:\n",
    "    print(\"The image belongs to Recycle waste category\")\n",
    "else:\n",
    "    print(\"The image belongs to Organic waste category \")"
   ]
  },
  {
   "cell_type": "code",
   "execution_count": null,
   "metadata": {
    "id": "8J9uIuZ4B9Tr"
   },
   "outputs": [],
   "source": []
  }
 ],
 "metadata": {
  "accelerator": "GPU",
  "colab": {
   "machine_shape": "hm",
   "provenance": []
  },
  "gpuClass": "standard",
  "kernelspec": {
   "display_name": "Python 3 (deep_learning)",
   "language": "python",
   "name": "deep_learning"
  },
  "language_info": {
   "codemirror_mode": {
    "name": "ipython",
    "version": 3
   },
   "file_extension": ".py",
   "mimetype": "text/x-python",
   "name": "python",
   "nbconvert_exporter": "python",
   "pygments_lexer": "ipython3",
   "version": "3.9.12"
  }
 },
 "nbformat": 4,
 "nbformat_minor": 1
}
