{
 "cells": [
  {
   "cell_type": "code",
   "execution_count": 1,
   "metadata": {
    "id": "MeTkxCFp3j4F"
   },
   "outputs": [],
   "source": [
    "# import libraries\n",
    "import cv2\n",
    "import pandas as pd\n",
    "import numpy as np\n",
    "import seaborn as sns\n",
    "import tensorflow as tf\n",
    "import matplotlib.pyplot as plt\n",
    "\n",
    "from os import path\n",
    "from glob import glob\n",
    "from tqdm import tqdm\n",
    "\n",
    "from sklearn import metrics\n",
    "from sklearn.ensemble import RandomForestClassifier\n",
    "from sklearn.linear_model import LogisticRegression\n",
    "from sklearn.preprocessing import StandardScaler\n",
    "from sklearn.decomposition import PCA\n",
    "\n",
    "from tensorflow import keras \n",
    "\n",
    "from tensorflow.keras.models import Model, Sequential\n",
    "\n",
    "from tensorflow.keras.layers import InputLayer\n",
    "from tensorflow.keras.layers import Conv2D, MaxPooling2D\n",
    "from tensorflow.keras.layers import BatchNormalization, Activation\n",
    "from tensorflow.keras.layers import Flatten, Dense, Dropout\n",
    "\n",
    "from tensorflow.keras.callbacks import ModelCheckpoint, EarlyStopping\n",
    "\n",
    "from tensorflow.keras.preprocessing.image import ImageDataGenerator"
   ]
  },
  {
   "cell_type": "code",
   "execution_count": 2,
   "metadata": {
    "id": "3EcDC1bLaJ0A"
   },
   "outputs": [],
   "source": [
    "plt.rcParams['figure.figsize'] = (12.0, 6.0)\n",
    "\n",
    "def model_performance_plot(history):\n",
    "    hist = pd.DataFrame(history.history)\n",
    "    hist['epoch'] = history.epoch\n",
    "  \n",
    "    plt.figure()\n",
    "    plt.xlabel('Epochs')\n",
    "    plt.ylabel('Accuracy')\n",
    "    plt.title('Training and Validation Accuracy')\n",
    "    plt.plot(hist['epoch'], hist['accuracy'],label='Train Accuracy')\n",
    "    plt.plot(hist['epoch'], hist['val_accuracy'],label = 'Validation Accuracy')\n",
    "    plt.legend()\n",
    "    plt.savefig('../images/' + str(history)+ '_accuracy.png')\n",
    "    \n",
    "    plt.figure()\n",
    "    plt.xlabel('Epochs')\n",
    "    plt.title('Training and Validation Binary Crossentropy Loss')\n",
    "    plt.plot(hist['epoch'], hist['loss'],label='Train Loss')\n",
    "    plt.plot(hist['epoch'], hist['val_loss'],label = 'Validation Loss')\n",
    "    plt.xlabel('Epochs')\n",
    "    plt.ylabel('Loss')\n",
    "    plt.legend()\n",
    "    plt.savefig('../images/' + str(history)+ '_loss.png')\n",
    "    plt.show()"
   ]
  },
  {
   "cell_type": "code",
   "execution_count": 3,
   "metadata": {
    "colab": {
     "base_uri": "https://localhost:8080/"
    },
    "id": "y58JW4dO2GFU",
    "outputId": "595c5d1f-8ca0-43e7-c9e9-81264b81f5f7"
   },
   "outputs": [
    {
     "name": "stdout",
     "output_type": "stream",
     "text": [
      "../../overview/project_data/COMPLETE_DATASET/TRAIN\n",
      "../../overview/project_data/COMPLETE_DATASET/TEST\n"
     ]
    }
   ],
   "source": [
    "# create directory paths for images (from dataset)\n",
    "base_dir = '../../overview/project_data/COMPLETE_DATASET'\n",
    "train_dir = path.join(base_dir, 'TRAIN')\n",
    "test_dir = path.join(base_dir, 'TEST')\n",
    "print(train_dir)\n",
    "print(test_dir)"
   ]
  },
  {
   "cell_type": "markdown",
   "metadata": {
    "id": "PhV-Lc-8AFKQ"
   },
   "source": [
    "# EDA"
   ]
  },
  {
   "cell_type": "code",
   "execution_count": 4,
   "metadata": {
    "id": "9YeWO_Lp-ivD"
   },
   "outputs": [
    {
     "name": "stdout",
     "output_type": "stream",
     "text": [
      "Number of organic (train) images:  12565\n"
     ]
    }
   ],
   "source": [
    "# .jpg files of organic images from train data\n",
    "train_org = glob(path.join(train_dir, 'O', '*.jpg'))\n",
    "print('Number of organic (train) images: ', len(train_org))"
   ]
  },
  {
   "cell_type": "code",
   "execution_count": 5,
   "metadata": {
    "id": "sQ6KZUvX-yfc"
   },
   "outputs": [
    {
     "name": "stdout",
     "output_type": "stream",
     "text": [
      "Number of recyclable (train) images:  9999\n"
     ]
    }
   ],
   "source": [
    "# .jpg files of recyclable images from train data\n",
    "train_re = glob(path.join(train_dir, 'R', '*.jpg'))\n",
    "print('Number of recyclable (train) images: ', len(train_re))"
   ]
  },
  {
   "cell_type": "code",
   "execution_count": 6,
   "metadata": {
    "id": "Cb0JZRak-zYx"
   },
   "outputs": [
    {
     "name": "stdout",
     "output_type": "stream",
     "text": [
      "Number of organic (test) images:  1401\n"
     ]
    }
   ],
   "source": [
    "# .jpg files of organic images from train data\n",
    "test_org = glob(path.join(test_dir, 'O', '*.jpg'))\n",
    "print('Number of organic (test) images: ', len(test_org))"
   ]
  },
  {
   "cell_type": "code",
   "execution_count": 7,
   "metadata": {
    "colab": {
     "base_uri": "https://localhost:8080/"
    },
    "id": "9w_qZNYq-2ZZ",
    "outputId": "14b95ad4-cc49-4176-9c1c-0effe44d6198"
   },
   "outputs": [
    {
     "name": "stdout",
     "output_type": "stream",
     "text": [
      "Number of recyclable (test) images:  1112\n"
     ]
    }
   ],
   "source": [
    "# .jpg files of organic images from train data\n",
    "test_re = glob(path.join(test_dir, 'R', '*.jpg'))\n",
    "print('Number of recyclable (test) images: ', len(test_re))"
   ]
  },
  {
   "cell_type": "code",
   "execution_count": 8,
   "metadata": {
    "colab": {
     "base_uri": "https://localhost:8080/"
    },
    "id": "bFvvyYif-4NI",
    "outputId": "404116ea-3ef5-4ed2-986a-a92d50292c38"
   },
   "outputs": [
    {
     "name": "stdout",
     "output_type": "stream",
     "text": [
      "Number of total (train + test) images:  25077\n",
      "Number of train (organic + recyclable) images:  22564\n",
      "Number of test (organic + recyclable) images:  2513\n"
     ]
    }
   ],
   "source": [
    "print('Number of total (train + test) images: ', len(train_org)+len(train_re)+len(test_org)+len(test_re))\n",
    "print('Number of train (organic + recyclable) images: ', len(train_org)+len(train_re))\n",
    "print('Number of test (organic + recyclable) images: ', len(test_org)+len(test_re))"
   ]
  },
  {
   "cell_type": "markdown",
   "metadata": {
    "id": "Bh_RCesbALgI"
   },
   "source": [
    "# IMAGE PREPROCESSING"
   ]
  },
  {
   "cell_type": "code",
   "execution_count": 9,
   "metadata": {
    "id": "TljIJtLr_xSi"
   },
   "outputs": [],
   "source": [
    "# image scaling\n",
    "data_generator = ImageDataGenerator(rescale = 1.0 / 255.0)"
   ]
  },
  {
   "cell_type": "code",
   "execution_count": 10,
   "metadata": {
    "colab": {
     "base_uri": "https://localhost:8080/"
    },
    "id": "J7Ks8GxL_x4P",
    "outputId": "da2a9ad3-c12d-4256-efa7-0e96b463096a"
   },
   "outputs": [
    {
     "name": "stdout",
     "output_type": "stream",
     "text": [
      "Found 22564 images belonging to 2 classes.\n",
      "Found 2513 images belonging to 2 classes.\n"
     ]
    }
   ],
   "source": [
    "# initialize train, validation, testing generator\n",
    "train_generator = data_generator.flow_from_directory(\n",
    "    train_dir,\n",
    "    class_mode='binary',\n",
    "    batch_size=32)\n",
    "\n",
    "test_generator = data_generator.flow_from_directory(\n",
    "    test_dir, \n",
    "    class_mode='binary',\n",
    "    batch_size=32)"
   ]
  },
  {
   "cell_type": "code",
   "execution_count": 11,
   "metadata": {
    "colab": {
     "base_uri": "https://localhost:8080/"
    },
    "id": "asvjvTFk_zNP",
    "outputId": "e57b0d67-801e-4ef8-b33d-cd5f0f4c3c59"
   },
   "outputs": [
    {
     "data": {
      "text/plain": [
       "{'O': 0, 'R': 1}"
      ]
     },
     "execution_count": 11,
     "metadata": {},
     "output_type": "execute_result"
    }
   ],
   "source": [
    "train_generator.class_indices"
   ]
  },
  {
   "cell_type": "code",
   "execution_count": 12,
   "metadata": {
    "colab": {
     "base_uri": "https://localhost:8080/"
    },
    "id": "hAWCOJVs_29p",
    "outputId": "c3b43593-eb5a-41c5-f6c7-fff3ab563b41"
   },
   "outputs": [
    {
     "name": "stderr",
     "output_type": "stream",
     "text": [
      "100%|█████████████████████████████████████████████████████████████████████████| 21/21 [00:05<00:00,  4.10it/s]"
     ]
    },
    {
     "name": "stdout",
     "output_type": "stream",
     "text": [
      "(704, 256, 256, 3) (704,)\n"
     ]
    },
    {
     "name": "stderr",
     "output_type": "stream",
     "text": [
      "\n"
     ]
    }
   ],
   "source": [
    "# iterate batches -> store the data in x_train, y_train\n",
    "train_generator.reset()\n",
    "x_train, y_train = next(train_generator)\n",
    "\n",
    "#1st batch is already fetched before the for loop\n",
    "for i in tqdm(range(int(len(train_generator)/32)-1)): \n",
    "    img, label = next(train_generator)\n",
    "    x_train = np.append(x_train, img, axis=0 )\n",
    "    y_train = np.append(y_train, label, axis=0)\n",
    "print(x_train.shape, y_train.shape)"
   ]
  },
  {
   "cell_type": "code",
   "execution_count": 13,
   "metadata": {
    "colab": {
     "base_uri": "https://localhost:8080/"
    },
    "id": "mHrkCo0N_6QE",
    "outputId": "94444fe9-e580-4dd0-ebfb-6c0717573390"
   },
   "outputs": [
    {
     "name": "stderr",
     "output_type": "stream",
     "text": [
      "100%|███████████████████████████████████████████████████████████████████████████| 1/1 [00:00<00:00, 13.11it/s]"
     ]
    },
    {
     "name": "stdout",
     "output_type": "stream",
     "text": [
      "(64, 256, 256, 3) (64,)\n"
     ]
    },
    {
     "name": "stderr",
     "output_type": "stream",
     "text": [
      "\n"
     ]
    }
   ],
   "source": [
    "# iterate batches -> store the data in x_test, y_test\n",
    "test_generator.reset()\n",
    "x_test, y_test = next(test_generator)\n",
    "\n",
    "#1st batch is already fetched before the for loop.\n",
    "for i in tqdm(range(int(len(test_generator)/32)-1)): \n",
    "    img, label = next(test_generator)\n",
    "    x_test = np.append(x_test, img, axis=0 )\n",
    "    y_test = np.append(y_test, label, axis=0)\n",
    "\n",
    "print(x_test.shape, y_test.shape)"
   ]
  },
  {
   "cell_type": "code",
   "execution_count": 14,
   "metadata": {
    "id": "VpdOJCsFfDXp"
   },
   "outputs": [],
   "source": [
    "earlystopping = EarlyStopping(monitor='val_accuracy',\n",
    "                              min_delta=0.005,\n",
    "                              patience=4,\n",
    "                              mode='max',\n",
    "                              verbose=1)\n",
    "                              \n",
    "callbacks = [earlystopping]"
   ]
  },
  {
   "cell_type": "markdown",
   "metadata": {
    "id": "TGXq7aT8_9Pq"
   },
   "source": [
    "# NON DEEP LEARNING MODELS"
   ]
  },
  {
   "cell_type": "code",
   "execution_count": 18,
   "metadata": {
    "colab": {
     "base_uri": "https://localhost:8080/"
    },
    "id": "uNO-CE7CAQV0",
    "outputId": "1151acbc-fc16-4fa1-aa00-722b72620116"
   },
   "outputs": [
    {
     "name": "stdout",
     "output_type": "stream",
     "text": [
      "4\n",
      "4\n"
     ]
    }
   ],
   "source": [
    "print(x_train.ndim)\n",
    "print(x_test.ndim)"
   ]
  },
  {
   "cell_type": "code",
   "execution_count": 19,
   "metadata": {
    "id": "i-pdwXNdASc_"
   },
   "outputs": [],
   "source": [
    "# reshape x_train values; sklearn expects 2D array\n",
    "nsamples, nx, ny, nrgb = x_train.shape\n",
    "x_train_2d = x_train.reshape((nsamples,nx*ny*nrgb))"
   ]
  },
  {
   "cell_type": "code",
   "execution_count": 20,
   "metadata": {
    "id": "MKLfeL7dAVGP"
   },
   "outputs": [],
   "source": [
    "# reshape x_test values; sklearn expects 2D array\n",
    "nsamples, nx, ny, nrgb = x_test.shape\n",
    "x_test_2d = x_test.reshape((nsamples,nx*ny*nrgb))"
   ]
  },
  {
   "cell_type": "markdown",
   "metadata": {
    "id": "V0MCVeL-L9AA"
   },
   "source": [
    "## RANDOM FOREST CLASSIFIER"
   ]
  },
  {
   "cell_type": "code",
   "execution_count": 21,
   "metadata": {
    "colab": {
     "base_uri": "https://localhost:8080/"
    },
    "id": "doymBw7DAVDo",
    "outputId": "03459e2a-d985-492f-c6ee-096797ed55f8"
   },
   "outputs": [
    {
     "name": "stdout",
     "output_type": "stream",
     "text": [
      "(704, 2)\n",
      "(64, 2)\n"
     ]
    }
   ],
   "source": [
    "# reduce train data dimensions using PCA\n",
    "pca = PCA(n_components=2)\n",
    "pca.fit(x_train_2d)\n",
    "x_train_2pc = pca.transform(x_train_2d)\n",
    "\n",
    "# reduce test data dimensions using PCA\n",
    "pca.fit(x_test_2d)\n",
    "x_test_2pc = pca.transform(x_test_2d)\n",
    "\n",
    "print(np.shape(x_train_2pc))\n",
    "print(np.shape(x_test_2pc))"
   ]
  },
  {
   "cell_type": "code",
   "execution_count": 22,
   "metadata": {
    "colab": {
     "base_uri": "https://localhost:8080/",
     "height": 623
    },
    "id": "FhysNA4l3UPL",
    "outputId": "53166d6d-e9d7-4b24-8fbf-b3e9c847f011"
   },
   "outputs": [
    {
     "data": {
      "text/plain": [
       "Text(0, 0.5, 'PCA Component 2')"
      ]
     },
     "execution_count": 22,
     "metadata": {},
     "output_type": "execute_result"
    },
    {
     "data": {
      "image/png": "[encoded data removed]",
      "text/plain": [
       "<Figure size 720x720 with 1 Axes>"
      ]
     },
     "metadata": {
      "needs_background": "light"
     },
     "output_type": "display_data"
    }
   ],
   "source": [
    "# plot PCA\n",
    "plt.figure(figsize=(10,10))\n",
    "\n",
    "sns.scatterplot(x=x_train_2pc[:, 0], y=x_train_2pc[:, 1],\n",
    "                hue=y_train,\n",
    "                palette=sns.color_palette(\"colorblind\", 2))\n",
    "plt.xlabel(\"PCA Component 1\")\n",
    "plt.ylabel(\"PCA Component 2\")"
   ]
  },
  {
   "cell_type": "code",
   "execution_count": 23,
   "metadata": {
    "colab": {
     "base_uri": "https://localhost:8080/"
    },
    "id": "KHnFYpUFAU-F",
    "outputId": "1af276e7-8985-4460-b61d-328aa5abd033"
   },
   "outputs": [
    {
     "data": {
      "text/plain": [
       "RandomForestClassifier()"
      ]
     },
     "execution_count": 23,
     "metadata": {},
     "output_type": "execute_result"
    }
   ],
   "source": [
    "# instantiate and fit random forest\n",
    "rf = RandomForestClassifier()\n",
    "\n",
    "rf.fit(x_train_2pc,y_train)"
   ]
  },
  {
   "cell_type": "code",
   "execution_count": 24,
   "metadata": {
    "colab": {
     "base_uri": "https://localhost:8080/"
    },
    "id": "KQEMx4BCAU7X",
    "outputId": "f2710fee-9d5c-41c0-b599-a1cf5116c71e"
   },
   "outputs": [
    {
     "data": {
      "text/plain": [
       "array([1., 0., 1., 0., 1., 0., 1., 0., 1., 0.], dtype=float32)"
      ]
     },
     "execution_count": 24,
     "metadata": {},
     "output_type": "execute_result"
    }
   ],
   "source": [
    "# evaluate predicted values\n",
    "rf_y_pred = rf.predict(x_test_2pc)\n",
    "rf_y_pred[0:10]"
   ]
  },
  {
   "cell_type": "code",
   "execution_count": 25,
   "metadata": {
    "colab": {
     "base_uri": "https://localhost:8080/"
    },
    "id": "7ookpPDnAoL_",
    "outputId": "726712fb-3f89-40c0-c6a8-075c0c9907bc"
   },
   "outputs": [
    {
     "name": "stdout",
     "output_type": "stream",
     "text": [
      "Random Forest MAE: 0.4688\n",
      "Random Forest MSE: 0.4688\n",
      "Random Forest Accuracy: 0.5312\n"
     ]
    }
   ],
   "source": [
    "# evaluate metrics\n",
    "print(f\"Random Forest MAE: {metrics.mean_absolute_error(y_test, rf_y_pred):,.4f}\")\n",
    "print(f\"Random Forest MSE: {metrics.mean_squared_error(y_test, rf_y_pred):,.4f}\")\n",
    "print(f\"Random Forest Accuracy: {metrics.accuracy_score(y_test, rf_y_pred):,.4f}\")"
   ]
  },
  {
   "cell_type": "markdown",
   "metadata": {
    "id": "KHxUc06MLmf0"
   },
   "source": [
    "## LOGISTIC REGRESSION"
   ]
  },
  {
   "cell_type": "code",
   "execution_count": 26,
   "metadata": {
    "id": "gaY3m_IJLo7t"
   },
   "outputs": [],
   "source": [
    "# standardized values for logistic regression\n",
    "sc = StandardScaler()\n",
    "x_train_scaled = sc.fit_transform(x_train_2d)\n",
    "x_test_scaled = sc.transform(x_test_2d)"
   ]
  },
  {
   "cell_type": "code",
   "execution_count": 27,
   "metadata": {
    "colab": {
     "base_uri": "https://localhost:8080/"
    },
    "id": "K8c79mKcN0AP",
    "outputId": "84ad6430-abc2-46f4-f736-7d4c4f0e2e22"
   },
   "outputs": [
    {
     "name": "stdout",
     "output_type": "stream",
     "text": [
      "(704, 2)\n",
      "(64, 2)\n"
     ]
    }
   ],
   "source": [
    "# reduce train data dimensions using PCA\n",
    "pca = PCA(n_components=2)\n",
    "pca.fit(x_train_scaled)\n",
    "x_train_scaled_2pc = pca.transform(x_train_scaled)\n",
    "\n",
    "# reduce test data dimensions using PCA\n",
    "pca.fit(x_test_scaled)\n",
    "x_test_scaled_2pc = pca.transform(x_test_scaled)\n",
    "\n",
    "print(np.shape(x_train_scaled_2pc))\n",
    "print(np.shape(x_test_scaled_2pc))"
   ]
  },
  {
   "cell_type": "code",
   "execution_count": 28,
   "metadata": {
    "colab": {
     "base_uri": "https://localhost:8080/"
    },
    "id": "yV5ZkQGLLkxx",
    "outputId": "db647385-6eeb-46ca-a000-52a09679b10c"
   },
   "outputs": [
    {
     "data": {
      "text/plain": [
       "LogisticRegression()"
      ]
     },
     "execution_count": 28,
     "metadata": {},
     "output_type": "execute_result"
    }
   ],
   "source": [
    "# instantiate and fit logistic regression\n",
    "lr = LogisticRegression()\n",
    "\n",
    "lr.fit(x_train_scaled_2pc, y_train)"
   ]
  },
  {
   "cell_type": "code",
   "execution_count": 29,
   "metadata": {
    "colab": {
     "base_uri": "https://localhost:8080/"
    },
    "id": "RPGNGdItQMhA",
    "outputId": "20043cc7-3223-498e-d1d4-2ef247a8c306"
   },
   "outputs": [
    {
     "data": {
      "text/plain": [
       "array([0., 1., 0., 1., 1., 1., 0., 1., 0., 1.], dtype=float32)"
      ]
     },
     "execution_count": 29,
     "metadata": {},
     "output_type": "execute_result"
    }
   ],
   "source": [
    "# evaluate predicted values\n",
    "lr_y_pred = lr.predict(x_test_scaled_2pc)\n",
    "lr_y_pred[0:10]"
   ]
  },
  {
   "cell_type": "code",
   "execution_count": 30,
   "metadata": {
    "colab": {
     "base_uri": "https://localhost:8080/"
    },
    "id": "A0cOUchfQTC_",
    "outputId": "74928cdd-40b1-4134-dee1-644a4f3e5e50"
   },
   "outputs": [
    {
     "name": "stdout",
     "output_type": "stream",
     "text": [
      "Logistic Regression MAE: 0.4688\n",
      "Logistic Regression MSE: 0.4688\n",
      "Logistic Regression Accuracy: 0.5312\n"
     ]
    }
   ],
   "source": [
    "# evaluate metrics\n",
    "print(f\"Logistic Regression MAE: {metrics.mean_absolute_error(y_test, rf_y_pred):,.4f}\")\n",
    "print(f\"Logistic Regression MSE: {metrics.mean_squared_error(y_test, rf_y_pred):,.4f}\")\n",
    "print(f\"Logistic Regression Accuracy: {metrics.accuracy_score(y_test, rf_y_pred):,.4f}\")"
   ]
  },
  {
   "cell_type": "markdown",
   "metadata": {
    "id": "MEogIejUAswM"
   },
   "source": [
    "# SIMPLE NEURAL NET"
   ]
  },
  {
   "cell_type": "code",
   "execution_count": 31,
   "metadata": {
    "colab": {
     "base_uri": "https://localhost:8080/"
    },
    "id": "FxQaLawAAoG2",
    "outputId": "aae3ad01-5992-4bce-f31e-991fab04ca90"
   },
   "outputs": [
    {
     "name": "stdout",
     "output_type": "stream",
     "text": [
      "Model: \"sequential\"\n",
      "_________________________________________________________________\n",
      " Layer (type)                Output Shape              Param #   \n",
      "=================================================================\n",
      " flatten (Flatten)           (None, 196608)            0         \n",
      "                                                                 \n",
      " dense (Dense)               (None, 80)                15728720  \n",
      "                                                                 \n",
      " dense_1 (Dense)             (None, 40)                3240      \n",
      "                                                                 \n",
      " dense_2 (Dense)             (None, 20)                820       \n",
      "                                                                 \n",
      " dense_3 (Dense)             (None, 10)                210       \n",
      "                                                                 \n",
      " dense_4 (Dense)             (None, 1)                 11        \n",
      "                                                                 \n",
      "=================================================================\n",
      "Total params: 15,733,001\n",
      "Trainable params: 15,733,001\n",
      "Non-trainable params: 0\n",
      "_________________________________________________________________\n"
     ]
    }
   ],
   "source": [
    "model1 = Sequential()\n",
    "\n",
    "model1.add(Flatten(input_shape=x_train.shape[1:]))\n",
    "model1.add(Dense(units=80, activation='relu'))\n",
    "model1.add(Dense(units=40, activation='relu'))\n",
    "model1.add(Dense(units=20, activation='relu'))\n",
    "model1.add(Dense(units=10, activation='relu'))\n",
    "model1.add(Dense(units=1, activation='sigmoid'))\n",
    "\n",
    "model1.compile('adam', loss='binary_crossentropy', metrics=['accuracy'])\n",
    "model1.summary()"
   ]
  },
  {
   "cell_type": "code",
   "execution_count": null,
   "metadata": {
    "colab": {
     "base_uri": "https://localhost:8080/"
    },
    "id": "zk3SSRqzefxJ",
    "outputId": "dd98f53a-aa30-49a6-f63d-e2a597ea74bc"
   },
   "outputs": [
    {
     "name": "stdout",
     "output_type": "stream",
     "text": [
      "Epoch 1/20\n",
      "706/706 [==============================] - ETA: 0s - loss: 0.4651 - accuracy: 0.7926"
     ]
    },
    {
     "name": "stderr",
     "output_type": "stream",
     "text": [
      "WARNING:tensorflow:Early stopping conditioned on metric `val_accuracy` which is not available. Available metrics are: loss,accuracy\n"
     ]
    },
    {
     "name": "stdout",
     "output_type": "stream",
     "text": [
      "\b\b\b\b\b\b\b\b\b\b\b\b\b\b\b\b\b\b\b\b\b\b\b\b\b\b\b\b\b\b\b\b\b\b\b\b\b\b\b\b\b\b\b\b\b\b\b\b\b\b\b\b\b\b\b\b\b\b\b\b\b\b\b\b\b\b\b\b\b\b\b\b\b\b\b\b\b\b\b\b\b\b\b\b\r",
      "706/706 [==============================] - 73s 104ms/step - loss: 0.4651 - accuracy: 0.7926\n",
      "Epoch 2/20\n",
      "706/706 [==============================] - ETA: 0s - loss: 0.4754 - accuracy: 0.7859"
     ]
    },
    {
     "name": "stderr",
     "output_type": "stream",
     "text": [
      "WARNING:tensorflow:Early stopping conditioned on metric `val_accuracy` which is not available. Available metrics are: loss,accuracy\n"
     ]
    },
    {
     "name": "stdout",
     "output_type": "stream",
     "text": [
      "\b\b\b\b\b\b\b\b\b\b\b\b\b\b\b\b\b\b\b\b\b\b\b\b\b\b\b\b\b\b\b\b\b\b\b\b\b\b\b\b\b\b\b\b\b\b\b\b\b\b\b\b\b\b\b\b\b\b\b\b\b\b\b\b\b\b\b\b\b\b\b\b\b\b\b\b\b\b\b\b\b\b\b\b\r",
      "706/706 [==============================] - 72s 101ms/step - loss: 0.4754 - accuracy: 0.7859\n",
      "Epoch 3/20\n",
      "706/706 [==============================] - ETA: 0s - loss: 0.4576 - accuracy: 0.7939"
     ]
    },
    {
     "name": "stderr",
     "output_type": "stream",
     "text": [
      "WARNING:tensorflow:Early stopping conditioned on metric `val_accuracy` which is not available. Available metrics are: loss,accuracy\n"
     ]
    },
    {
     "name": "stdout",
     "output_type": "stream",
     "text": [
      "\b\b\b\b\b\b\b\b\b\b\b\b\b\b\b\b\b\b\b\b\b\b\b\b\b\b\b\b\b\b\b\b\b\b\b\b\b\b\b\b\b\b\b\b\b\b\b\b\b\b\b\b\b\b\b\b\b\b\b\b\b\b\b\b\b\b\b\b\b\b\b\b\b\b\b\b\b\b\b\b\b\b\b\b\r",
      "706/706 [==============================] - 72s 102ms/step - loss: 0.4576 - accuracy: 0.7939\n",
      "Epoch 4/20\n",
      "706/706 [==============================] - ETA: 0s - loss: 0.4515 - accuracy: 0.8009"
     ]
    },
    {
     "name": "stderr",
     "output_type": "stream",
     "text": [
      "WARNING:tensorflow:Early stopping conditioned on metric `val_accuracy` which is not available. Available metrics are: loss,accuracy\n"
     ]
    },
    {
     "name": "stdout",
     "output_type": "stream",
     "text": [
      "\b\b\b\b\b\b\b\b\b\b\b\b\b\b\b\b\b\b\b\b\b\b\b\b\b\b\b\b\b\b\b\b\b\b\b\b\b\b\b\b\b\b\b\b\b\b\b\b\b\b\b\b\b\b\b\b\b\b\b\b\b\b\b\b\b\b\b\b\b\b\b\b\b\b\b\b\b\b\b\b\b\b\b\b\r",
      "706/706 [==============================] - 74s 104ms/step - loss: 0.4515 - accuracy: 0.8009\n",
      "Epoch 5/20\n",
      "706/706 [==============================] - ETA: 0s - loss: 0.4490 - accuracy: 0.8013"
     ]
    },
    {
     "name": "stderr",
     "output_type": "stream",
     "text": [
      "WARNING:tensorflow:Early stopping conditioned on metric `val_accuracy` which is not available. Available metrics are: loss,accuracy\n"
     ]
    },
    {
     "name": "stdout",
     "output_type": "stream",
     "text": [
      "\b\b\b\b\b\b\b\b\b\b\b\b\b\b\b\b\b\b\b\b\b\b\b\b\b\b\b\b\b\b\b\b\b\b\b\b\b\b\b\b\b\b\b\b\b\b\b\b\b\b\b\b\b\b\b\b\b\b\b\b\b\b\b\b\b\b\b\b\b\b\b\b\b\b\b\b\b\b\b\b\b\b\b\b\r",
      "706/706 [==============================] - 71s 101ms/step - loss: 0.4490 - accuracy: 0.8013\n",
      "Epoch 6/20\n",
      "706/706 [==============================] - ETA: 0s - loss: 0.4517 - accuracy: 0.7993"
     ]
    },
    {
     "name": "stderr",
     "output_type": "stream",
     "text": [
      "WARNING:tensorflow:Early stopping conditioned on metric `val_accuracy` which is not available. Available metrics are: loss,accuracy\n"
     ]
    },
    {
     "name": "stdout",
     "output_type": "stream",
     "text": [
      "\b\b\b\b\b\b\b\b\b\b\b\b\b\b\b\b\b\b\b\b\b\b\b\b\b\b\b\b\b\b\b\b\b\b\b\b\b\b\b\b\b\b\b\b\b\b\b\b\b\b\b\b\b\b\b\b\b\b\b\b\b\b\b\b\b\b\b\b\b\b\b\b\b\b\b\b\b\b\b\b\b\b\b\b\r",
      "706/706 [==============================] - 74s 105ms/step - loss: 0.4517 - accuracy: 0.7993\n",
      "Epoch 7/20\n",
      "706/706 [==============================] - ETA: 0s - loss: 0.4475 - accuracy: 0.8024"
     ]
    },
    {
     "name": "stderr",
     "output_type": "stream",
     "text": [
      "WARNING:tensorflow:Early stopping conditioned on metric `val_accuracy` which is not available. Available metrics are: loss,accuracy\n"
     ]
    },
    {
     "name": "stdout",
     "output_type": "stream",
     "text": [
      "\b\b\b\b\b\b\b\b\b\b\b\b\b\b\b\b\b\b\b\b\b\b\b\b\b\b\b\b\b\b\b\b\b\b\b\b\b\b\b\b\b\b\b\b\b\b\b\b\b\b\b\b\b\b\b\b\b\b\b\b\b\b\b\b\b\b\b\b\b\b\b\b\b\b\b\b\b\b\b\b\b\b\b\b\r",
      "706/706 [==============================] - 72s 102ms/step - loss: 0.4475 - accuracy: 0.8024\n",
      "Epoch 8/20\n",
      "706/706 [==============================] - ETA: 0s - loss: 0.4450 - accuracy: 0.8038"
     ]
    },
    {
     "name": "stderr",
     "output_type": "stream",
     "text": [
      "WARNING:tensorflow:Early stopping conditioned on metric `val_accuracy` which is not available. Available metrics are: loss,accuracy\n"
     ]
    },
    {
     "name": "stdout",
     "output_type": "stream",
     "text": [
      "\b\b\b\b\b\b\b\b\b\b\b\b\b\b\b\b\b\b\b\b\b\b\b\b\b\b\b\b\b\b\b\b\b\b\b\b\b\b\b\b\b\b\b\b\b\b\b\b\b\b\b\b\b\b\b\b\b\b\b\b\b\b\b\b\b\b\b\b\b\b\b\b\b\b\b\b\b\b\b\b\b\b\b\b\r",
      "706/706 [==============================] - 73s 104ms/step - loss: 0.4450 - accuracy: 0.8038\n",
      "Epoch 9/20\n",
      "706/706 [==============================] - ETA: 0s - loss: 0.4430 - accuracy: 0.8042"
     ]
    },
    {
     "name": "stderr",
     "output_type": "stream",
     "text": [
      "WARNING:tensorflow:Early stopping conditioned on metric `val_accuracy` which is not available. Available metrics are: loss,accuracy\n"
     ]
    },
    {
     "name": "stdout",
     "output_type": "stream",
     "text": [
      "\b\b\b\b\b\b\b\b\b\b\b\b\b\b\b\b\b\b\b\b\b\b\b\b\b\b\b\b\b\b\b\b\b\b\b\b\b\b\b\b\b\b\b\b\b\b\b\b\b\b\b\b\b\b\b\b\b\b\b\b\b\b\b\b\b\b\b\b\b\b\b\b\b\b\b\b\b\b\b\b\b\b\b\b\r",
      "706/706 [==============================] - 71s 101ms/step - loss: 0.4430 - accuracy: 0.8042\n",
      "Epoch 10/20\n",
      "518/706 [=====================>........] - ETA: 18s - loss: 0.4428 - accuracy: 0.8049"
     ]
    }
   ],
   "source": [
    "simple_neural_net = model1.fit(train_generator,\n",
    "                               epochs=20,\n",
    "                               callbacks=callbacks)"
   ]
  },
  {
   "cell_type": "code",
   "execution_count": null,
   "metadata": {
    "id": "9YltefFpf0kT"
   },
   "outputs": [],
   "source": [
    "# evaluate model\n",
    "neural_net_loss, neural_netcomplex_accuracy = model1.evaluate(test_generator)\n",
    "print(f\"Test Accuracy: {neural_net_accuracy:.4f}\")\n",
    "print(f\"Test Loss: {neural_net_loss:.4f}\")\n"
   ]
  },
  {
   "cell_type": "code",
   "execution_count": null,
   "metadata": {
    "id": "Z60WMKorfrbG"
   },
   "outputs": [],
   "source": [
    "# plot model performance\n",
    "model_performance_plot(simple_neural_net)"
   ]
  },
  {
   "cell_type": "code",
   "execution_count": 36,
   "metadata": {
    "colab": {
     "base_uri": "https://localhost:8080/"
    },
    "id": "djk_CxNtBEFD",
    "outputId": "092f9e0d-e09d-42dd-ce15-0c7ddbb5a924"
   },
   "outputs": [
    {
     "name": "stdout",
     "output_type": "stream",
     "text": [
      "Simple Neural Net MAE: 0.1406\n",
      "Simple Neural Net MSE: 0.1406\n",
      "Simple Neural Net Accuracy: 0.8594\n"
     ]
    }
   ],
   "source": [
    "# evaluate using MAE, MSE, Accuracy\n",
    "print(f\"Simple Neural Net MAE: {metrics.mean_absolute_error(y_test, snn_y_pred):,.4f}\")\n",
    "print(f\"Simple Neural Net MSE: {metrics.mean_squared_error(y_test, snn_y_pred):,.4f}\")\n",
    "print(f\"Simple Neural Net Accuracy: {metrics.accuracy_score(y_test, snn_y_pred):,.4f}\")"
   ]
  },
  {
   "cell_type": "markdown",
   "metadata": {
    "id": "Fr1rtistBGP6"
   },
   "source": [
    "# IMAGE PREPROCESSING"
   ]
  },
  {
   "cell_type": "code",
   "execution_count": 39,
   "metadata": {
    "id": "9iTDYraDho-U"
   },
   "outputs": [],
   "source": [
    "img_height = 256\n",
    "img_width = 256\n",
    "batch_size = 32"
   ]
  },
  {
   "cell_type": "code",
   "execution_count": 40,
   "metadata": {
    "id": "DCLD8nLWBECR"
   },
   "outputs": [],
   "source": [
    "# image scaling\n",
    "train_datagen = ImageDataGenerator(rescale=1 / 255.0,\n",
    "                                   validation_split=0.20)\n",
    "\n",
    "test_datagen = ImageDataGenerator(rescale=1 / 255.0)"
   ]
  },
  {
   "cell_type": "code",
   "execution_count": 41,
   "metadata": {
    "colab": {
     "base_uri": "https://localhost:8080/"
    },
    "id": "XR0IrBJvBK70",
    "outputId": "0d729b70-e290-4847-ca9f-f0cce9946420"
   },
   "outputs": [
    {
     "name": "stdout",
     "output_type": "stream",
     "text": [
      "Found 18052 images belonging to 2 classes.\n",
      "Found 4512 images belonging to 2 classes.\n",
      "Found 2513 images belonging to 2 classes.\n"
     ]
    }
   ],
   "source": [
    "# initialize train, validation, testing generator\n",
    "train_generator = train_datagen.flow_from_directory(\n",
    "    directory=train_dir,\n",
    "    target_size=(img_height, img_width),\n",
    "    batch_size=batch_size,\n",
    "    class_mode='binary',\n",
    "    subset='training',\n",
    "    shuffle=True,\n",
    "    seed=42)\n",
    "\n",
    "valid_generator = train_datagen.flow_from_directory(\n",
    "    directory=train_dir,\n",
    "    target_size=(img_height, img_width),\n",
    "    batch_size=batch_size,\n",
    "    class_mode='binary',\n",
    "    subset='validation',\n",
    "    shuffle=True,\n",
    "    seed=42)\n",
    "\n",
    "test_generator = test_datagen.flow_from_directory(\n",
    "    directory=test_dir,\n",
    "    target_size=(img_height, img_width),\n",
    "    batch_size=batch_size,\n",
    "    class_mode='binary',\n",
    "    seed=42)"
   ]
  },
  {
   "cell_type": "markdown",
   "metadata": {
    "id": "SMwMHCYSBW3J"
   },
   "source": [
    "# SIMPLE CNN"
   ]
  },
  {
   "cell_type": "code",
   "execution_count": 42,
   "metadata": {
    "colab": {
     "base_uri": "https://localhost:8080/"
    },
    "id": "qDrR1H-lBKwr",
    "outputId": "03b5c577-2fec-445b-b900-90ecb6c3b9af"
   },
   "outputs": [
    {
     "name": "stdout",
     "output_type": "stream",
     "text": [
      "Model: \"sequential_1\"\n",
      "_________________________________________________________________\n",
      " Layer (type)                Output Shape              Param #   \n",
      "=================================================================\n",
      " conv2d (Conv2D)             (None, 254, 254, 16)      448       \n",
      "                                                                 \n",
      " max_pooling2d (MaxPooling2D  (None, 127, 127, 16)     0         \n",
      " )                                                               \n",
      "                                                                 \n",
      " flatten_1 (Flatten)         (None, 258064)            0         \n",
      "                                                                 \n",
      " dense_5 (Dense)             (None, 16)                4129040   \n",
      "                                                                 \n",
      " dense_6 (Dense)             (None, 1)                 17        \n",
      "                                                                 \n",
      "=================================================================\n",
      "Total params: 4,129,505\n",
      "Trainable params: 4,129,505\n",
      "Non-trainable params: 0\n",
      "_________________________________________________________________\n"
     ]
    }
   ],
   "source": [
    "model2 = Sequential()\n",
    "\n",
    "model2.add(InputLayer(input_shape=(256,256,3)))\n",
    "\n",
    "model2.add(Conv2D(filters=16,kernel_size=3,activation='relu'))\n",
    "model2.add(MaxPooling2D(pool_size=(2, 2)))\n",
    "    \n",
    "model2.add(Flatten())\n",
    "    \n",
    "model2.add(Dense(16, activation='relu'))\n",
    "    \n",
    "model2.add(Dense(1, activation='sigmoid'))\n",
    "    \n",
    "model2.compile(loss='binary_crossentropy',optimizer='adam',metrics=['accuracy'])\n",
    "\n",
    "model2.summary()"
   ]
  },
  {
   "cell_type": "code",
   "execution_count": 44,
   "metadata": {
    "colab": {
     "base_uri": "https://localhost:8080/"
    },
    "id": "eX6bAXVDlfTQ",
    "outputId": "3453012d-de1b-427e-bab9-ce18a05f22ae"
   },
   "outputs": [
    {
     "name": "stdout",
     "output_type": "stream",
     "text": [
      "Epoch 1/20\n",
      "565/565 [==============================] - ETA: 0s - loss: 0.6313 - accuracy: 0.8048\n",
      "Epoch 1: val_accuracy improved from -inf to 0.78568, saving model to ./model_checkpoint/best_model.epoch01-acc0.79.hdf5\n",
      "565/565 [==============================] - 95s 164ms/step - loss: 0.6313 - accuracy: 0.8048 - val_loss: 0.4750 - val_accuracy: 0.7857\n",
      "Epoch 2/20\n",
      "565/565 [==============================] - ETA: 0s - loss: 0.3297 - accuracy: 0.8680\n",
      "Epoch 2: val_accuracy did not improve from 0.78568\n",
      "565/565 [==============================] - 80s 141ms/step - loss: 0.3297 - accuracy: 0.8680 - val_loss: 0.5114 - val_accuracy: 0.7653\n",
      "Epoch 3/20\n",
      "565/565 [==============================] - ETA: 0s - loss: 0.2288 - accuracy: 0.9137\n",
      "Epoch 3: val_accuracy improved from 0.78568 to 0.80696, saving model to ./model_checkpoint/best_model.epoch03-acc0.81.hdf5\n",
      "565/565 [==============================] - 81s 143ms/step - loss: 0.2288 - accuracy: 0.9137 - val_loss: 0.4771 - val_accuracy: 0.8070\n",
      "Epoch 4/20\n",
      "565/565 [==============================] - ETA: 0s - loss: 0.1439 - accuracy: 0.9478\n",
      "Epoch 4: val_accuracy did not improve from 0.80696\n",
      "565/565 [==============================] - 85s 150ms/step - loss: 0.1439 - accuracy: 0.9478 - val_loss: 0.5912 - val_accuracy: 0.7828\n",
      "Epoch 5/20\n",
      "565/565 [==============================] - ETA: 0s - loss: 0.1079 - accuracy: 0.9638\n",
      "Epoch 5: val_accuracy did not improve from 0.80696\n",
      "565/565 [==============================] - 84s 149ms/step - loss: 0.1079 - accuracy: 0.9638 - val_loss: 0.7386 - val_accuracy: 0.7713\n",
      "Epoch 6/20\n",
      "565/565 [==============================] - ETA: 0s - loss: 0.0761 - accuracy: 0.9767\n",
      "Epoch 6: val_accuracy did not improve from 0.80696\n",
      "565/565 [==============================] - 80s 141ms/step - loss: 0.0761 - accuracy: 0.9767 - val_loss: 1.0002 - val_accuracy: 0.7553\n",
      "Epoch 7/20\n",
      "565/565 [==============================] - ETA: 0s - loss: 0.0548 - accuracy: 0.9843\n",
      "Epoch 7: val_accuracy did not improve from 0.80696\n",
      "565/565 [==============================] - 78s 139ms/step - loss: 0.0548 - accuracy: 0.9843 - val_loss: 0.7663 - val_accuracy: 0.8019\n",
      "Epoch 7: early stopping\n"
     ]
    }
   ],
   "source": [
    "simple_cnn = model2.fit(train_generator,\n",
    "                        epochs=20,\n",
    "                        validation_data=valid_generator,\n",
    "                        callbacks=callbacks)"
   ]
  },
  {
   "cell_type": "code",
   "execution_count": null,
   "metadata": {
    "id": "FehAbdzTcLm1"
   },
   "outputs": [],
   "source": [
    "model_performance_plot(simple_cnn)"
   ]
  },
  {
   "cell_type": "code",
   "execution_count": null,
   "metadata": {
    "id": "qAJyoV9BaX2-"
   },
   "outputs": [],
   "source": [
    "# evaluate model\n",
    "simple_loss, simple_accuracy = model2.evaluate(test_generator)\n",
    "print(f\"Test Accuracy: {simple_accuracy:.4f}\")\n",
    "print(f\"Test Loss: {simple_loss:.4f}\")\n"
   ]
  },
  {
   "cell_type": "markdown",
   "metadata": {
    "id": "dYnogXPfBs-U"
   },
   "source": [
    "# COMPLEX CNN"
   ]
  },
  {
   "cell_type": "code",
   "execution_count": 51,
   "metadata": {
    "colab": {
     "base_uri": "https://localhost:8080/"
    },
    "id": "-9WfVWUqBo1T",
    "outputId": "53807a98-ea3c-425d-e6cb-c8212f9cdf3b"
   },
   "outputs": [
    {
     "name": "stdout",
     "output_type": "stream",
     "text": [
      "Model: \"sequential_3\"\n",
      "_________________________________________________________________\n",
      " Layer (type)                Output Shape              Param #   \n",
      "=================================================================\n",
      " conv2d_3 (Conv2D)           (None, 256, 256, 16)      448       \n",
      "                                                                 \n",
      " batch_normalization_5 (Batc  (None, 256, 256, 16)     64        \n",
      " hNormalization)                                                 \n",
      "                                                                 \n",
      " activation_5 (Activation)   (None, 256, 256, 16)      0         \n",
      "                                                                 \n",
      " max_pooling2d_3 (MaxPooling  (None, 128, 128, 16)     0         \n",
      " 2D)                                                             \n",
      "                                                                 \n",
      " conv2d_4 (Conv2D)           (None, 128, 128, 32)      4640      \n",
      "                                                                 \n",
      " batch_normalization_6 (Batc  (None, 128, 128, 32)     128       \n",
      " hNormalization)                                                 \n",
      "                                                                 \n",
      " activation_6 (Activation)   (None, 128, 128, 32)      0         \n",
      "                                                                 \n",
      " max_pooling2d_4 (MaxPooling  (None, 64, 64, 32)       0         \n",
      " 2D)                                                             \n",
      "                                                                 \n",
      " flatten_3 (Flatten)         (None, 131072)            0         \n",
      "                                                                 \n",
      " dense_10 (Dense)            (None, 32)                4194336   \n",
      "                                                                 \n",
      " batch_normalization_7 (Batc  (None, 32)               128       \n",
      " hNormalization)                                                 \n",
      "                                                                 \n",
      " activation_7 (Activation)   (None, 32)                0         \n",
      "                                                                 \n",
      " dropout_2 (Dropout)         (None, 32)                0         \n",
      "                                                                 \n",
      " dense_11 (Dense)            (None, 16)                528       \n",
      "                                                                 \n",
      " batch_normalization_8 (Batc  (None, 16)               64        \n",
      " hNormalization)                                                 \n",
      "                                                                 \n",
      " activation_8 (Activation)   (None, 16)                0         \n",
      "                                                                 \n",
      " dropout_3 (Dropout)         (None, 16)                0         \n",
      "                                                                 \n",
      " dense_12 (Dense)            (None, 1)                 17        \n",
      "                                                                 \n",
      " batch_normalization_9 (Batc  (None, 1)                4         \n",
      " hNormalization)                                                 \n",
      "                                                                 \n",
      " activation_9 (Activation)   (None, 1)                 0         \n",
      "                                                                 \n",
      "=================================================================\n",
      "Total params: 4,200,357\n",
      "Trainable params: 4,200,163\n",
      "Non-trainable params: 194\n",
      "_________________________________________________________________\n"
     ]
    }
   ],
   "source": [
    "model3 = Sequential()\n",
    "\n",
    "model3.add(InputLayer(input_shape=(256,256,3)))\n",
    "\n",
    "model3.add(Conv2D(filters=16, kernel_size=3, padding='same'))\n",
    "model3.add(BatchNormalization())\n",
    "model3.add(Activation('relu'))\n",
    "model3.add(MaxPooling2D())\n",
    "\n",
    "model3.add(Conv2D(filters=32, kernel_size=3, padding='same'))\n",
    "model3.add(BatchNormalization())\n",
    "model3.add(Activation('relu'))\n",
    "model3.add(MaxPooling2D())\n",
    "\n",
    "# model3.add(Conv2D(filters=64, kernel_size=3, padding='same'))\n",
    "# model3.add(BatchNormalization())\n",
    "# model3.add(Activation('relu'))\n",
    "# model3.add(MaxPooling2D())\n",
    "\n",
    "model3.add(Flatten())\n",
    "\n",
    "# model3.add(Dense(64))\n",
    "# model3.add(BatchNormalization())\n",
    "# model3.add(Activation('relu'))\n",
    "# model3.add(Dropout(0.5))\n",
    "\n",
    "model3.add(Dense(32))\n",
    "model3.add(BatchNormalization())\n",
    "model3.add(Activation('relu'))\n",
    "model3.add(Dropout(0.5))\n",
    "\n",
    "model3.add(Dense(16))\n",
    "model3.add(BatchNormalization())\n",
    "model3.add(Activation('relu'))\n",
    "model3.add(Dropout(0.5))\n",
    "\n",
    "model3.add(Dense(1))\n",
    "model3.add(BatchNormalization())\n",
    "model3.add(Activation('sigmoid'))\n",
    "\n",
    "model3.compile(loss = 'binary_crossentropy',optimizer = 'adam',metrics = ['accuracy'])\n",
    "\n",
    "model3.summary()"
   ]
  },
  {
   "cell_type": "code",
   "execution_count": 52,
   "metadata": {
    "colab": {
     "base_uri": "https://localhost:8080/"
    },
    "id": "Ypbog_AikYs8",
    "outputId": "0a536fd4-c676-4335-d944-cae0184b25f7"
   },
   "outputs": [
    {
     "name": "stdout",
     "output_type": "stream",
     "text": [
      "Epoch 1/20\n",
      "565/565 [==============================] - ETA: 0s - loss: 0.5128 - accuracy: 0.7742\n",
      "Epoch 1: val_accuracy did not improve from 0.80696\n",
      "565/565 [==============================] - 93s 160ms/step - loss: 0.5128 - accuracy: 0.7742 - val_loss: 0.4546 - val_accuracy: 0.7992\n",
      "Epoch 2/20\n",
      "565/565 [==============================] - ETA: 0s - loss: 0.4365 - accuracy: 0.8286\n",
      "Epoch 2: val_accuracy improved from 0.80696 to 0.82203, saving model to ./model_checkpoint/best_model.epoch02-acc0.82.hdf5\n",
      "565/565 [==============================] - 83s 146ms/step - loss: 0.4365 - accuracy: 0.8286 - val_loss: 0.4195 - val_accuracy: 0.8220\n",
      "Epoch 3/20\n",
      "565/565 [==============================] - ETA: 0s - loss: 0.4066 - accuracy: 0.8377\n",
      "Epoch 3: val_accuracy improved from 0.82203 to 0.83511, saving model to ./model_checkpoint/best_model.epoch03-acc0.84.hdf5\n",
      "565/565 [==============================] - 86s 152ms/step - loss: 0.4066 - accuracy: 0.8377 - val_loss: 0.3924 - val_accuracy: 0.8351\n",
      "Epoch 4/20\n",
      "565/565 [==============================] - ETA: 0s - loss: 0.3850 - accuracy: 0.8504\n",
      "Epoch 4: val_accuracy did not improve from 0.83511\n",
      "565/565 [==============================] - 85s 150ms/step - loss: 0.3850 - accuracy: 0.8504 - val_loss: 0.4373 - val_accuracy: 0.7970\n",
      "Epoch 5/20\n",
      "565/565 [==============================] - ETA: 0s - loss: 0.3638 - accuracy: 0.8587\n",
      "Epoch 5: val_accuracy improved from 0.83511 to 0.84441, saving model to ./model_checkpoint/best_model.epoch05-acc0.84.hdf5\n",
      "565/565 [==============================] - 91s 161ms/step - loss: 0.3638 - accuracy: 0.8587 - val_loss: 0.3572 - val_accuracy: 0.8444\n",
      "Epoch 6/20\n",
      "565/565 [==============================] - ETA: 0s - loss: 0.3361 - accuracy: 0.8716\n",
      "Epoch 6: val_accuracy did not improve from 0.84441\n",
      "565/565 [==============================] - 89s 158ms/step - loss: 0.3361 - accuracy: 0.8716 - val_loss: 0.3684 - val_accuracy: 0.8400\n",
      "Epoch 7/20\n",
      "565/565 [==============================] - ETA: 0s - loss: 0.3209 - accuracy: 0.8819\n",
      "Epoch 7: val_accuracy improved from 0.84441 to 0.84685, saving model to ./model_checkpoint/best_model.epoch07-acc0.85.hdf5\n",
      "565/565 [==============================] - 84s 148ms/step - loss: 0.3209 - accuracy: 0.8819 - val_loss: 0.3602 - val_accuracy: 0.8469\n",
      "Epoch 8/20\n",
      "565/565 [==============================] - ETA: 0s - loss: 0.2909 - accuracy: 0.8944\n",
      "Epoch 8: val_accuracy did not improve from 0.84685\n",
      "565/565 [==============================] - 86s 152ms/step - loss: 0.2909 - accuracy: 0.8944 - val_loss: 0.3805 - val_accuracy: 0.8302\n",
      "Epoch 9/20\n",
      "565/565 [==============================] - ETA: 0s - loss: 0.2639 - accuracy: 0.9060\n",
      "Epoch 9: val_accuracy improved from 0.84685 to 0.85749, saving model to ./model_checkpoint/best_model.epoch09-acc0.86.hdf5\n",
      "565/565 [==============================] - 89s 157ms/step - loss: 0.2639 - accuracy: 0.9060 - val_loss: 0.3441 - val_accuracy: 0.8575\n",
      "Epoch 10/20\n",
      "565/565 [==============================] - ETA: 0s - loss: 0.2405 - accuracy: 0.9170\n",
      "Epoch 10: val_accuracy did not improve from 0.85749\n",
      "565/565 [==============================] - 90s 160ms/step - loss: 0.2405 - accuracy: 0.9170 - val_loss: 0.3831 - val_accuracy: 0.8311\n",
      "Epoch 11/20\n",
      "565/565 [==============================] - ETA: 0s - loss: 0.2195 - accuracy: 0.9247\n",
      "Epoch 11: val_accuracy did not improve from 0.85749\n",
      "565/565 [==============================] - 78s 139ms/step - loss: 0.2195 - accuracy: 0.9247 - val_loss: 0.4103 - val_accuracy: 0.8300\n",
      "Epoch 12/20\n",
      "565/565 [==============================] - ETA: 0s - loss: 0.1938 - accuracy: 0.9362\n",
      "Epoch 12: val_accuracy did not improve from 0.85749\n",
      "565/565 [==============================] - 82s 145ms/step - loss: 0.1938 - accuracy: 0.9362 - val_loss: 0.4599 - val_accuracy: 0.8043\n",
      "Epoch 13/20\n",
      "565/565 [==============================] - ETA: 0s - loss: 0.1697 - accuracy: 0.9436\n",
      "Epoch 13: val_accuracy did not improve from 0.85749\n",
      "565/565 [==============================] - 85s 151ms/step - loss: 0.1697 - accuracy: 0.9436 - val_loss: 0.4154 - val_accuracy: 0.8169\n",
      "Epoch 13: early stopping\n"
     ]
    }
   ],
   "source": [
    "complex_cnn = model3.fit(train_generator,\n",
    "                        epochs=20,\n",
    "                        validation_data=valid_generator,\n",
    "                        callbacks=callbacks)"
   ]
  },
  {
   "cell_type": "code",
   "execution_count": 57,
   "metadata": {
    "colab": {
     "base_uri": "https://localhost:8080/"
    },
    "id": "9NgGfjjEWE4e",
    "outputId": "fac69a28-e8b3-4c2c-dfb3-da1ba36698bc"
   },
   "outputs": [
    {
     "name": "stdout",
     "output_type": "stream",
     "text": [
      "79/79 [==============================] - 10s 119ms/step - loss: 0.3268 - accuracy: 0.8663\n",
      "Test Accuracy: 0.8663\n",
      "Test Loss: 0.3268\n"
     ]
    }
   ],
   "source": [
    "# evaluate model\n",
    "complex_loss, complex_accuracy = model3.evaluate(test_generator)\n",
    "print(f\"Test Accuracy: {complex_accuracy:.4f}\")\n",
    "print(f\"Test Loss: {complex_loss:.4f}\")\n"
   ]
  },
  {
   "cell_type": "code",
   "execution_count": 62,
   "metadata": {
    "colab": {
     "base_uri": "https://localhost:8080/",
     "height": 791
    },
    "id": "Q2escES3YFWl",
    "outputId": "9e79f0e1-166e-460b-f837-37477560c629"
   },
   "outputs": [
    {
     "data": {
      "image/png": "[encoded data removed]",
      "text/plain": [
       "<Figure size 864x432 with 1 Axes>"
      ]
     },
     "metadata": {
      "needs_background": "light"
     },
     "output_type": "display_data"
    },
    {
     "data": {
      "image/png": "[encoded data removed]",
      "text/plain": [
       "<Figure size 864x432 with 1 Axes>"
      ]
     },
     "metadata": {
      "needs_background": "light"
     },
     "output_type": "display_data"
    }
   ],
   "source": [
    "model_performance_plot(complex_cnn)"
   ]
  },
  {
   "cell_type": "code",
   "execution_count": null,
   "metadata": {
    "id": "2G_OyltqYFZR"
   },
   "outputs": [],
   "source": []
  },
  {
   "cell_type": "code",
   "execution_count": null,
   "metadata": {
    "id": "-48YjlMhYTww"
   },
   "outputs": [],
   "source": [
    "Y_pred = model.predict_generator(test_generator, len(test_generator))\n",
    "y_pred = np.argmax(Y_pred, axis=1)"
   ]
  },
  {
   "cell_type": "code",
   "execution_count": null,
   "metadata": {
    "id": "dfAl0QF7YTtL"
   },
   "outputs": [],
   "source": [
    "target_names = list(test_generator.class_indices.keys())\n",
    "print(classification_report(test_generator.classes, y_pred, target_names=target_names)) "
   ]
  },
  {
   "cell_type": "code",
   "execution_count": null,
   "metadata": {
    "id": "sUHj-j5LWE11"
   },
   "outputs": [],
   "source": [
    "conf_mat = confusion_matrix(test_generator.classes, y_pred)\n",
    "df_cm = pd.DataFrame(conf_mat, index = target_names, columns = target_names)\n",
    "plt.figure(figsize = (12,8))\n",
    "sn.heatmap(df_cm, annot=True,cmap=\"YlGnBu\")"
   ]
  },
  {
   "cell_type": "code",
   "execution_count": null,
   "metadata": {
    "id": "El9N7zHQWExI"
   },
   "outputs": [],
   "source": []
  },
  {
   "cell_type": "code",
   "execution_count": null,
   "metadata": {
    "id": "Fu-I0-AiYlt5"
   },
   "outputs": [],
   "source": []
  },
  {
   "cell_type": "code",
   "execution_count": null,
   "metadata": {
    "id": "3nNr1-CLYlqI"
   },
   "outputs": [],
   "source": [
    "class_mapping = {v:k for k,v in train_generator.class_indices.items()}\n"
   ]
  },
  {
   "cell_type": "code",
   "execution_count": null,
   "metadata": {
    "id": "dmZ-KjOeWEuj"
   },
   "outputs": [],
   "source": [
    "def image_type(filename):\n",
    "    \n",
    "    if \"glass\" in filename:\n",
    "        return 'glass'\n",
    "    elif \"metal\" in filename:\n",
    "        return 'metal'\n",
    "    elif \"paper\" in filename:\n",
    "        return 'paper'\n",
    "    elif \"plastic\" in filename:\n",
    "        return 'plastic'\n",
    "    elif \"cardboard\" in filename:\n",
    "        return 'cardboard'\n",
    "    \n",
    "\n",
    "def plot_predicted_label(nrows, ncols,onlyfiles):\n",
    "    fig, axes = plt.subplots(nrows, ncols,figsize=(20, 13))\n",
    "    \n",
    "    rs = np.random.choice(len(onlyfiles),nrows*ncols,replace=False)\n",
    "    \n",
    "    for i, ax in zip(rs, axes.flat):\n",
    "        img = cv2.imread(os.path.join(predict_dir, onlyfiles[i]))\n",
    "        true_type = image_type(onlyfiles[i])\n",
    "        img = cv2.resize(img, (IMAGE_SIZE[0], IMAGE_SIZE[1])) \n",
    "        img = img /255\n",
    "         \n",
    "        probabilities = model.predict(np.asarray([img]))[0]\n",
    "        class_idx = np.argmax(probabilities)\n",
    "            \n",
    "        title = 'True: %s, Pred: %s , Confi:%0.2f' % (true_type,class_mapping[class_idx],probabilities[class_idx])\n",
    "        ax.imshow(img, cmap='binary')\n",
    "        ax.set_title(title)\n",
    "         \n",
    "        ax.set_xticks([])\n",
    "        ax.set_yticks([])\n",
    "\n",
    "        \n",
    "num_rows = 2\n",
    "num_cols = 4\n",
    "\n",
    "# load image path to predict\n",
    "onlyfiles = [f for f in listdir(predict_dir) if isfile(join(predict_dir, f))]\n",
    "\n",
    "plot_predicted_label(num_rows, num_cols,onlyfiles);"
   ]
  },
  {
   "cell_type": "code",
   "execution_count": null,
   "metadata": {
    "id": "GqAtHMVdYkBo"
   },
   "outputs": [],
   "source": []
  },
  {
   "cell_type": "code",
   "execution_count": null,
   "metadata": {
    "id": "Tmnu0zQZWErk"
   },
   "outputs": [],
   "source": []
  },
  {
   "cell_type": "code",
   "execution_count": null,
   "metadata": {
    "id": "QEq56OeBSZT7"
   },
   "outputs": [],
   "source": [
    "def predict_func(img): \n",
    "    plt.figure(figsize=(6,4))\n",
    "    plt.imshow(cv2.cvtColor(img, cv2.COLOR_BGR2RGB))\n",
    "    plt.tight_layout()\n",
    "    img = cv2.resize(img, (224, 224))\n",
    "    img = np.reshape(img, [-1, 224, 224,3])\n",
    "    result = np.argmax(model.predict(img))\n",
    "    if result == 0: print(\"\\033[94m\"+\"This image -> Recyclable\"+\"\\033[0m\")\n",
    "    elif result ==1: print(\"\\033[94m\"+\"This image -> Organic\"+\"\\033[0m\")"
   ]
  },
  {
   "cell_type": "code",
   "execution_count": null,
   "metadata": {
    "id": "VIecGU37Sgjd"
   },
   "outputs": [],
   "source": [
    "test_img = cv2.imread(\"/kaggle/input/waste-classification-data/DATASET/TEST/O/O_12573.jpg\")\n",
    "predict_func(test_img)"
   ]
  },
  {
   "cell_type": "code",
   "execution_count": null,
   "metadata": {
    "id": "ejxk23SMSgdi"
   },
   "outputs": [],
   "source": [
    "test_img = cv2.imread(\"/kaggle/input/waste-classification-data/DATASET/TEST/R/R_10753.jpg\")\n",
    "predict_func(test_img)"
   ]
  },
  {
   "cell_type": "code",
   "execution_count": null,
   "metadata": {
    "id": "wkb5iR5ZYjAd"
   },
   "outputs": [],
   "source": []
  },
  {
   "cell_type": "code",
   "execution_count": null,
   "metadata": {
    "id": "UaCWiUXHTL_b"
   },
   "outputs": [],
   "source": [
    "# Test Case:1 - ORGANIC\n",
    "\n",
    "dic = test_data.class_indices\n",
    "idc = {k:v for v,k in dic.items()}\n",
    "\n",
    "img = load_img('../input/waste-classification-data/DATASET/TEST/O/O_12650.jpg', target_size=(224,224))\n",
    "img = img_to_array(img)\n",
    "img = img / 255\n",
    "imshow(img)\n",
    "plt.axis('off')\n",
    "img = np.expand_dims(img,axis=0)\n",
    "answer = model.predict_proba(img)\n",
    "\n",
    "if answer[0][0] > 0.5:\n",
    "    print(\"The image belongs to Recycle waste category\")\n",
    "else:\n",
    "    print(\"The image belongs to Organic waste category \")"
   ]
  },
  {
   "cell_type": "code",
   "execution_count": null,
   "metadata": {
    "id": "q96hcsF3TN9o"
   },
   "outputs": [],
   "source": [
    "# Test Case:2 - RECYCLE\n",
    "\n",
    "dic = test_data.class_indices\n",
    "idc = {k:v for v,k in dic.items()}\n",
    "\n",
    "img = load_img('../input/waste-classification-data/DATASET/TEST/R/R_10011.jpg', target_size=(224,224))\n",
    "img = img_to_array(img)\n",
    "img = img / 255\n",
    "imshow(img)\n",
    "plt.axis('off')\n",
    "img = np.expand_dims(img,axis=0)\n",
    "answer = model.predict_proba(img)\n",
    "\n",
    "if answer[0][0] > 0.5:\n",
    "    print(\"The image belongs to Recycle waste category\")\n",
    "else:\n",
    "    print(\"The image belongs to Organic waste category \")"
   ]
  },
  {
   "cell_type": "code",
   "execution_count": null,
   "metadata": {
    "id": "8J9uIuZ4B9Tr"
   },
   "outputs": [],
   "source": []
  }
 ],
 "metadata": {
  "accelerator": "GPU",
  "colab": {
   "provenance": []
  },
  "gpuClass": "standard",
  "kernelspec": {
   "display_name": "Python 3 (deep_learning)",
   "language": "python",
   "name": "deep_learning"
  },
  "language_info": {
   "codemirror_mode": {
    "name": "ipython",
    "version": 3
   },
   "file_extension": ".py",
   "mimetype": "text/x-python",
   "name": "python",
   "nbconvert_exporter": "python",
   "pygments_lexer": "ipython3",
   "version": "3.9.12"
  }
 },
 "nbformat": 4,
 "nbformat_minor": 1
}
